{
 "cells": [
  {
   "cell_type": "markdown",
   "metadata": {},
   "source": [
    "# Binary Classification with DNS and Combined Dataset\n",
    "\n",
    "We will now use NTLK (the natural language toolkit) to process just the DNS Records.  This time though, we will import these from both the dataset from the paper for the 24hr-period as well as our own."
   ]
  },
  {
   "cell_type": "code",
   "execution_count": 108,
   "metadata": {},
   "outputs": [],
   "source": [
    "from pathlib import Path\n",
    "import os\n",
    "import re\n",
    "import apsw\n",
    "import pandas as pd\n",
    "import time\n"
   ]
  },
  {
   "cell_type": "code",
   "execution_count": 109,
   "metadata": {},
   "outputs": [
    {
     "name": "stdout",
     "output_type": "stream",
     "text": [
      "/home/ricdeez/uni/temp/ionetlearn\n"
     ]
    }
   ],
   "source": [
    "cwd = Path.cwd().parent.parent\n",
    "print(cwd)"
   ]
  },
  {
   "cell_type": "code",
   "execution_count": 110,
   "metadata": {},
   "outputs": [
    {
     "name": "stdout",
     "output_type": "stream",
     "text": [
      "/home/ricdeez/uni/temp/ionetlearn/db/db01/NetCollector.sqlite\n"
     ]
    }
   ],
   "source": [
    "db1_path = os.path.join(cwd, 'db', 'db01', 'NetCollector.sqlite')\n",
    "db2_path = os.path.join(cwd, 'db', 'db02', 'NetCollector.sqlite')\n",
    "db3_path = os.path.join(cwd, 'db', 'db03', 'NetCollector.sqlite')\n",
    "print(db1_path)"
   ]
  },
  {
   "cell_type": "code",
   "execution_count": 111,
   "metadata": {},
   "outputs": [
    {
     "name": "stdout",
     "output_type": "stream",
     "text": [
      "Engine(sqlite://///home/ricdeez/uni/temp/ionetlearn/db/db03/NetCollector.sqlite)\n"
     ]
    }
   ],
   "source": [
    "from sqlalchemy import create_engine\n",
    "engine = create_engine(f'sqlite:////{db3_path}')\n",
    "\n",
    "print(engine)\n",
    "\n",
    "sql = \"\"\"\n",
    "\n",
    "select d.srcPort as srcport, \n",
    "       d.dstPort as dstport, \n",
    "       sum(d.frameSize) as totalframesize, \n",
    "       min(d.frameSize) as minframesize,\n",
    "       max(d.frameSize) as maxframesize,\n",
    "       count(*) as pktcount,\n",
    "       avg(d.frameTTL) as framettl,\n",
    "       dns.dnsquery,\n",
    "       d.manufacturer,\n",
    "       d.device_type\n",
    "from deviceLog d inner join dnsqueries dns on d.frameNum = dns.pktnum\n",
    "where d.manufacturer is not null and d.device_type is not null\n",
    "group by d.srcAddr, d.dstAddr, d.srcPort, d.dstPort\n",
    "\n",
    "\"\"\"\n",
    "\n",
    "df = pd.read_sql_query(sql, engine)"
   ]
  },
  {
   "cell_type": "code",
   "execution_count": 112,
   "metadata": {},
   "outputs": [
    {
     "data": {
      "text/plain": [
       "'\\nimport sqlite3\\nconn1 = sqlite3.connect(db1_path)\\ncur1 = conn1.cursor()\\n\\nconn2 = sqlite3.connect(db2_path)\\ncur2 = conn2.cursor()\\n\\nconn3 = sqlite3.connect(db3_path)\\ncur3 = conn3.cursor()\\n\\nsql = \"\"\"\\n\\nselect d.srcPort, \\n       d.dstPort, \\n       sum(d.frameSize) as totalframesize, \\n       min(d.frameSize) as minframesize,\\n       max(d.frameSize) as maxframesize,\\n       count(*) as pktcount,\\n       avg(d.frameTTL) as framettl,\\n       dns.dnsquery,\\n       d.manufacturer,\\n       d.device_type\\nfrom deviceLog d inner join dnsqueries dns on d.frameNum = dns.pktnum\\nwhere d.manufacturer is not null and d.device_type is not null\\ngroup by d.srcAddr, d.dstAddr, d.srcPort, d.dstPort\\n\"\"\"\\n\\narr = []\\nmy_cursors = [cur1, cur2, cur3]\\nmy_cursors = [cur1]\\n\\nfor c in my_cursors:\\n    for row in c.execute(sql):\\n        arr.append(row)\\n    \\ncols = [\\'srcport\\',\\n        \\'dstport\\',\\n        \\'totalframesize\\',\\n        \\'minframesize\\',\\n        \\'maxframesize\\',\\n        \\'pktcount\\',\\n        \\'framettl\\',\\n        \\'dnsquery\\',\\n        \\'manufacturer\\',\\n        \\'device_type\\']\\nimport pandas as pd\\ndf = pd.DataFrame(data=arr, columns=cols)\\n\\n'"
      ]
     },
     "execution_count": 112,
     "metadata": {},
     "output_type": "execute_result"
    }
   ],
   "source": [
    "'''\n",
    "import sqlite3\n",
    "conn1 = sqlite3.connect(db1_path)\n",
    "cur1 = conn1.cursor()\n",
    "\n",
    "conn2 = sqlite3.connect(db2_path)\n",
    "cur2 = conn2.cursor()\n",
    "\n",
    "conn3 = sqlite3.connect(db3_path)\n",
    "cur3 = conn3.cursor()\n",
    "\n",
    "sql = \"\"\"\n",
    "\n",
    "select d.srcPort, \n",
    "       d.dstPort, \n",
    "       sum(d.frameSize) as totalframesize, \n",
    "       min(d.frameSize) as minframesize,\n",
    "       max(d.frameSize) as maxframesize,\n",
    "       count(*) as pktcount,\n",
    "       avg(d.frameTTL) as framettl,\n",
    "       dns.dnsquery,\n",
    "       d.manufacturer,\n",
    "       d.device_type\n",
    "from deviceLog d inner join dnsqueries dns on d.frameNum = dns.pktnum\n",
    "where d.manufacturer is not null and d.device_type is not null\n",
    "group by d.srcAddr, d.dstAddr, d.srcPort, d.dstPort\n",
    "\"\"\"\n",
    "\n",
    "arr = []\n",
    "my_cursors = [cur1, cur2, cur3]\n",
    "my_cursors = [cur1]\n",
    "\n",
    "for c in my_cursors:\n",
    "    for row in c.execute(sql):\n",
    "        arr.append(row)\n",
    "    \n",
    "cols = ['srcport',\n",
    "        'dstport',\n",
    "        'totalframesize',\n",
    "        'minframesize',\n",
    "        'maxframesize',\n",
    "        'pktcount',\n",
    "        'framettl',\n",
    "        'dnsquery',\n",
    "        'manufacturer',\n",
    "        'device_type']\n",
    "import pandas as pd\n",
    "df = pd.DataFrame(data=arr, columns=cols)\n",
    "\n",
    "'''"
   ]
  },
  {
   "cell_type": "code",
   "execution_count": 113,
   "metadata": {},
   "outputs": [
    {
     "data": {
      "text/html": [
       "<div>\n",
       "<style scoped>\n",
       "    .dataframe tbody tr th:only-of-type {\n",
       "        vertical-align: middle;\n",
       "    }\n",
       "\n",
       "    .dataframe tbody tr th {\n",
       "        vertical-align: top;\n",
       "    }\n",
       "\n",
       "    .dataframe thead th {\n",
       "        text-align: right;\n",
       "    }\n",
       "</style>\n",
       "<table border=\"1\" class=\"dataframe\">\n",
       "  <thead>\n",
       "    <tr style=\"text-align: right;\">\n",
       "      <th></th>\n",
       "      <th>totalframesize</th>\n",
       "      <th>minframesize</th>\n",
       "      <th>maxframesize</th>\n",
       "      <th>pktcount</th>\n",
       "      <th>framettl</th>\n",
       "    </tr>\n",
       "  </thead>\n",
       "  <tbody>\n",
       "    <tr>\n",
       "      <td>count</td>\n",
       "      <td>3986.000000</td>\n",
       "      <td>3986.000000</td>\n",
       "      <td>3986.000000</td>\n",
       "      <td>3986.000000</td>\n",
       "      <td>3986.000000</td>\n",
       "    </tr>\n",
       "    <tr>\n",
       "      <td>mean</td>\n",
       "      <td>126.273708</td>\n",
       "      <td>81.449574</td>\n",
       "      <td>81.523081</td>\n",
       "      <td>1.459609</td>\n",
       "      <td>84.513336</td>\n",
       "    </tr>\n",
       "    <tr>\n",
       "      <td>std</td>\n",
       "      <td>1228.860161</td>\n",
       "      <td>11.022395</td>\n",
       "      <td>11.129762</td>\n",
       "      <td>9.391232</td>\n",
       "      <td>55.934130</td>\n",
       "    </tr>\n",
       "    <tr>\n",
       "      <td>min</td>\n",
       "      <td>68.000000</td>\n",
       "      <td>68.000000</td>\n",
       "      <td>68.000000</td>\n",
       "      <td>1.000000</td>\n",
       "      <td>1.000000</td>\n",
       "    </tr>\n",
       "    <tr>\n",
       "      <td>25%</td>\n",
       "      <td>73.000000</td>\n",
       "      <td>73.000000</td>\n",
       "      <td>73.000000</td>\n",
       "      <td>1.000000</td>\n",
       "      <td>64.000000</td>\n",
       "    </tr>\n",
       "    <tr>\n",
       "      <td>50%</td>\n",
       "      <td>80.000000</td>\n",
       "      <td>75.000000</td>\n",
       "      <td>75.000000</td>\n",
       "      <td>1.000000</td>\n",
       "      <td>64.000000</td>\n",
       "    </tr>\n",
       "    <tr>\n",
       "      <td>75%</td>\n",
       "      <td>100.000000</td>\n",
       "      <td>90.000000</td>\n",
       "      <td>90.000000</td>\n",
       "      <td>1.000000</td>\n",
       "      <td>64.000000</td>\n",
       "    </tr>\n",
       "    <tr>\n",
       "      <td>max</td>\n",
       "      <td>73500.000000</td>\n",
       "      <td>133.000000</td>\n",
       "      <td>168.000000</td>\n",
       "      <td>513.000000</td>\n",
       "      <td>255.000000</td>\n",
       "    </tr>\n",
       "  </tbody>\n",
       "</table>\n",
       "</div>"
      ],
      "text/plain": [
       "       totalframesize  minframesize  maxframesize     pktcount     framettl\n",
       "count     3986.000000   3986.000000   3986.000000  3986.000000  3986.000000\n",
       "mean       126.273708     81.449574     81.523081     1.459609    84.513336\n",
       "std       1228.860161     11.022395     11.129762     9.391232    55.934130\n",
       "min         68.000000     68.000000     68.000000     1.000000     1.000000\n",
       "25%         73.000000     73.000000     73.000000     1.000000    64.000000\n",
       "50%         80.000000     75.000000     75.000000     1.000000    64.000000\n",
       "75%        100.000000     90.000000     90.000000     1.000000    64.000000\n",
       "max      73500.000000    133.000000    168.000000   513.000000   255.000000"
      ]
     },
     "execution_count": 113,
     "metadata": {},
     "output_type": "execute_result"
    }
   ],
   "source": [
    "df.describe()"
   ]
  },
  {
   "cell_type": "code",
   "execution_count": 114,
   "metadata": {},
   "outputs": [],
   "source": [
    "from keras.preprocessing.text import Tokenizer\n"
   ]
  },
  {
   "cell_type": "code",
   "execution_count": 115,
   "metadata": {},
   "outputs": [],
   "source": [
    "dns = df['dnsquery']"
   ]
  },
  {
   "cell_type": "code",
   "execution_count": 116,
   "metadata": {},
   "outputs": [],
   "source": [
    "tk = Tokenizer()\n",
    "tk.fit_on_texts(dns)\n",
    "# https://github.com/keras-team/keras/issues/8092\n",
    "num_words = 50\n",
    "tk.word_index = {e:i for e,i in tk.word_index.items() if i < num_words} "
   ]
  },
  {
   "cell_type": "code",
   "execution_count": 117,
   "metadata": {},
   "outputs": [],
   "source": [
    "encoded_dns=tk.texts_to_matrix(dns, mode='binary')"
   ]
  },
  {
   "cell_type": "code",
   "execution_count": 118,
   "metadata": {},
   "outputs": [],
   "source": [
    "cols = [f'word_idx{i+1}' for i in range(num_words)]"
   ]
  },
  {
   "cell_type": "code",
   "execution_count": 119,
   "metadata": {},
   "outputs": [],
   "source": [
    "df2 = pd.DataFrame(data=encoded_dns, columns=cols)"
   ]
  },
  {
   "cell_type": "code",
   "execution_count": 120,
   "metadata": {},
   "outputs": [],
   "source": [
    "df = pd.concat([df, df2], axis='columns')"
   ]
  },
  {
   "cell_type": "code",
   "execution_count": 121,
   "metadata": {},
   "outputs": [
    {
     "data": {
      "text/html": [
       "<div>\n",
       "<style scoped>\n",
       "    .dataframe tbody tr th:only-of-type {\n",
       "        vertical-align: middle;\n",
       "    }\n",
       "\n",
       "    .dataframe tbody tr th {\n",
       "        vertical-align: top;\n",
       "    }\n",
       "\n",
       "    .dataframe thead th {\n",
       "        text-align: right;\n",
       "    }\n",
       "</style>\n",
       "<table border=\"1\" class=\"dataframe\">\n",
       "  <thead>\n",
       "    <tr style=\"text-align: right;\">\n",
       "      <th></th>\n",
       "      <th>srcport</th>\n",
       "      <th>dstport</th>\n",
       "      <th>totalframesize</th>\n",
       "      <th>minframesize</th>\n",
       "      <th>maxframesize</th>\n",
       "      <th>pktcount</th>\n",
       "      <th>framettl</th>\n",
       "      <th>dnsquery</th>\n",
       "      <th>manufacturer</th>\n",
       "      <th>device_type</th>\n",
       "      <th>...</th>\n",
       "      <th>word_idx41</th>\n",
       "      <th>word_idx42</th>\n",
       "      <th>word_idx43</th>\n",
       "      <th>word_idx44</th>\n",
       "      <th>word_idx45</th>\n",
       "      <th>word_idx46</th>\n",
       "      <th>word_idx47</th>\n",
       "      <th>word_idx48</th>\n",
       "      <th>word_idx49</th>\n",
       "      <th>word_idx50</th>\n",
       "    </tr>\n",
       "  </thead>\n",
       "  <tbody>\n",
       "    <tr>\n",
       "      <td>0</td>\n",
       "      <td>25587</td>\n",
       "      <td>53</td>\n",
       "      <td>15210</td>\n",
       "      <td>78</td>\n",
       "      <td>78</td>\n",
       "      <td>195</td>\n",
       "      <td>255.0</td>\n",
       "      <td>netcom.netatmo.net.</td>\n",
       "      <td>Netatmo</td>\n",
       "      <td>Netatmo weather station</td>\n",
       "      <td>...</td>\n",
       "      <td>0.0</td>\n",
       "      <td>0.0</td>\n",
       "      <td>0.0</td>\n",
       "      <td>0.0</td>\n",
       "      <td>0.0</td>\n",
       "      <td>0.0</td>\n",
       "      <td>0.0</td>\n",
       "      <td>0.0</td>\n",
       "      <td>0.0</td>\n",
       "      <td>0.0</td>\n",
       "    </tr>\n",
       "    <tr>\n",
       "      <td>1</td>\n",
       "      <td>31332</td>\n",
       "      <td>53</td>\n",
       "      <td>72</td>\n",
       "      <td>72</td>\n",
       "      <td>72</td>\n",
       "      <td>1</td>\n",
       "      <td>255.0</td>\n",
       "      <td>pool.ntp.org.</td>\n",
       "      <td>Lifi Labs Management Pty Ltd</td>\n",
       "      <td>Light Bulbs LiFX Smart Bulb</td>\n",
       "      <td>...</td>\n",
       "      <td>0.0</td>\n",
       "      <td>0.0</td>\n",
       "      <td>0.0</td>\n",
       "      <td>0.0</td>\n",
       "      <td>0.0</td>\n",
       "      <td>0.0</td>\n",
       "      <td>0.0</td>\n",
       "      <td>0.0</td>\n",
       "      <td>0.0</td>\n",
       "      <td>0.0</td>\n",
       "    </tr>\n",
       "    <tr>\n",
       "      <td>2</td>\n",
       "      <td>31333</td>\n",
       "      <td>53</td>\n",
       "      <td>72</td>\n",
       "      <td>72</td>\n",
       "      <td>72</td>\n",
       "      <td>1</td>\n",
       "      <td>255.0</td>\n",
       "      <td>pool.ntp.org.</td>\n",
       "      <td>Lifi Labs Management Pty Ltd</td>\n",
       "      <td>Light Bulbs LiFX Smart Bulb</td>\n",
       "      <td>...</td>\n",
       "      <td>0.0</td>\n",
       "      <td>0.0</td>\n",
       "      <td>0.0</td>\n",
       "      <td>0.0</td>\n",
       "      <td>0.0</td>\n",
       "      <td>0.0</td>\n",
       "      <td>0.0</td>\n",
       "      <td>0.0</td>\n",
       "      <td>0.0</td>\n",
       "      <td>0.0</td>\n",
       "    </tr>\n",
       "    <tr>\n",
       "      <td>3</td>\n",
       "      <td>31334</td>\n",
       "      <td>53</td>\n",
       "      <td>72</td>\n",
       "      <td>72</td>\n",
       "      <td>72</td>\n",
       "      <td>1</td>\n",
       "      <td>255.0</td>\n",
       "      <td>pool.ntp.org.</td>\n",
       "      <td>Lifi Labs Management Pty Ltd</td>\n",
       "      <td>Light Bulbs LiFX Smart Bulb</td>\n",
       "      <td>...</td>\n",
       "      <td>0.0</td>\n",
       "      <td>0.0</td>\n",
       "      <td>0.0</td>\n",
       "      <td>0.0</td>\n",
       "      <td>0.0</td>\n",
       "      <td>0.0</td>\n",
       "      <td>0.0</td>\n",
       "      <td>0.0</td>\n",
       "      <td>0.0</td>\n",
       "      <td>0.0</td>\n",
       "    </tr>\n",
       "    <tr>\n",
       "      <td>4</td>\n",
       "      <td>31335</td>\n",
       "      <td>53</td>\n",
       "      <td>72</td>\n",
       "      <td>72</td>\n",
       "      <td>72</td>\n",
       "      <td>1</td>\n",
       "      <td>255.0</td>\n",
       "      <td>pool.ntp.org.</td>\n",
       "      <td>Lifi Labs Management Pty Ltd</td>\n",
       "      <td>Light Bulbs LiFX Smart Bulb</td>\n",
       "      <td>...</td>\n",
       "      <td>0.0</td>\n",
       "      <td>0.0</td>\n",
       "      <td>0.0</td>\n",
       "      <td>0.0</td>\n",
       "      <td>0.0</td>\n",
       "      <td>0.0</td>\n",
       "      <td>0.0</td>\n",
       "      <td>0.0</td>\n",
       "      <td>0.0</td>\n",
       "      <td>0.0</td>\n",
       "    </tr>\n",
       "    <tr>\n",
       "      <td>...</td>\n",
       "      <td>...</td>\n",
       "      <td>...</td>\n",
       "      <td>...</td>\n",
       "      <td>...</td>\n",
       "      <td>...</td>\n",
       "      <td>...</td>\n",
       "      <td>...</td>\n",
       "      <td>...</td>\n",
       "      <td>...</td>\n",
       "      <td>...</td>\n",
       "      <td>...</td>\n",
       "      <td>...</td>\n",
       "      <td>...</td>\n",
       "      <td>...</td>\n",
       "      <td>...</td>\n",
       "      <td>...</td>\n",
       "      <td>...</td>\n",
       "      <td>...</td>\n",
       "      <td>...</td>\n",
       "      <td>...</td>\n",
       "      <td>...</td>\n",
       "    </tr>\n",
       "    <tr>\n",
       "      <td>3981</td>\n",
       "      <td>65468</td>\n",
       "      <td>53</td>\n",
       "      <td>90</td>\n",
       "      <td>90</td>\n",
       "      <td>90</td>\n",
       "      <td>1</td>\n",
       "      <td>64.0</td>\n",
       "      <td>Dan-PC.lan.</td>\n",
       "      <td>AzureWave Technology Inc.</td>\n",
       "      <td>Laptop</td>\n",
       "      <td>...</td>\n",
       "      <td>0.0</td>\n",
       "      <td>0.0</td>\n",
       "      <td>0.0</td>\n",
       "      <td>0.0</td>\n",
       "      <td>0.0</td>\n",
       "      <td>0.0</td>\n",
       "      <td>0.0</td>\n",
       "      <td>0.0</td>\n",
       "      <td>0.0</td>\n",
       "      <td>0.0</td>\n",
       "    </tr>\n",
       "    <tr>\n",
       "      <td>3982</td>\n",
       "      <td>65474</td>\n",
       "      <td>53</td>\n",
       "      <td>101</td>\n",
       "      <td>101</td>\n",
       "      <td>101</td>\n",
       "      <td>1</td>\n",
       "      <td>64.0</td>\n",
       "      <td>client-cf.dropbox.com.</td>\n",
       "      <td>AzureWave Technology Inc.</td>\n",
       "      <td>Laptop</td>\n",
       "      <td>...</td>\n",
       "      <td>0.0</td>\n",
       "      <td>0.0</td>\n",
       "      <td>0.0</td>\n",
       "      <td>0.0</td>\n",
       "      <td>0.0</td>\n",
       "      <td>0.0</td>\n",
       "      <td>0.0</td>\n",
       "      <td>0.0</td>\n",
       "      <td>0.0</td>\n",
       "      <td>0.0</td>\n",
       "    </tr>\n",
       "    <tr>\n",
       "      <td>3983</td>\n",
       "      <td>65506</td>\n",
       "      <td>53</td>\n",
       "      <td>95</td>\n",
       "      <td>95</td>\n",
       "      <td>95</td>\n",
       "      <td>1</td>\n",
       "      <td>64.0</td>\n",
       "      <td>ssl.gstatic.com.</td>\n",
       "      <td>AzureWave Technology Inc.</td>\n",
       "      <td>Laptop</td>\n",
       "      <td>...</td>\n",
       "      <td>0.0</td>\n",
       "      <td>0.0</td>\n",
       "      <td>0.0</td>\n",
       "      <td>0.0</td>\n",
       "      <td>0.0</td>\n",
       "      <td>0.0</td>\n",
       "      <td>0.0</td>\n",
       "      <td>0.0</td>\n",
       "      <td>0.0</td>\n",
       "      <td>0.0</td>\n",
       "    </tr>\n",
       "    <tr>\n",
       "      <td>3984</td>\n",
       "      <td>65509</td>\n",
       "      <td>53</td>\n",
       "      <td>90</td>\n",
       "      <td>90</td>\n",
       "      <td>90</td>\n",
       "      <td>1</td>\n",
       "      <td>64.0</td>\n",
       "      <td>Dan-PC.lan.</td>\n",
       "      <td>AzureWave Technology Inc.</td>\n",
       "      <td>Laptop</td>\n",
       "      <td>...</td>\n",
       "      <td>0.0</td>\n",
       "      <td>0.0</td>\n",
       "      <td>0.0</td>\n",
       "      <td>0.0</td>\n",
       "      <td>0.0</td>\n",
       "      <td>0.0</td>\n",
       "      <td>0.0</td>\n",
       "      <td>0.0</td>\n",
       "      <td>0.0</td>\n",
       "      <td>0.0</td>\n",
       "    </tr>\n",
       "    <tr>\n",
       "      <td>3985</td>\n",
       "      <td>5353</td>\n",
       "      <td>5353</td>\n",
       "      <td>3264</td>\n",
       "      <td>102</td>\n",
       "      <td>102</td>\n",
       "      <td>32</td>\n",
       "      <td>1.0</td>\n",
       "      <td>_googlecast._tcp.local.</td>\n",
       "      <td>AzureWave Technology Inc.</td>\n",
       "      <td>Laptop</td>\n",
       "      <td>...</td>\n",
       "      <td>0.0</td>\n",
       "      <td>0.0</td>\n",
       "      <td>0.0</td>\n",
       "      <td>0.0</td>\n",
       "      <td>0.0</td>\n",
       "      <td>0.0</td>\n",
       "      <td>0.0</td>\n",
       "      <td>0.0</td>\n",
       "      <td>0.0</td>\n",
       "      <td>0.0</td>\n",
       "    </tr>\n",
       "  </tbody>\n",
       "</table>\n",
       "<p>3986 rows × 60 columns</p>\n",
       "</div>"
      ],
      "text/plain": [
       "     srcport dstport  totalframesize  minframesize  maxframesize  pktcount  \\\n",
       "0      25587      53           15210            78            78       195   \n",
       "1      31332      53              72            72            72         1   \n",
       "2      31333      53              72            72            72         1   \n",
       "3      31334      53              72            72            72         1   \n",
       "4      31335      53              72            72            72         1   \n",
       "...      ...     ...             ...           ...           ...       ...   \n",
       "3981   65468      53              90            90            90         1   \n",
       "3982   65474      53             101           101           101         1   \n",
       "3983   65506      53              95            95            95         1   \n",
       "3984   65509      53              90            90            90         1   \n",
       "3985    5353    5353            3264           102           102        32   \n",
       "\n",
       "      framettl                 dnsquery                  manufacturer  \\\n",
       "0        255.0      netcom.netatmo.net.                       Netatmo   \n",
       "1        255.0            pool.ntp.org.  Lifi Labs Management Pty Ltd   \n",
       "2        255.0            pool.ntp.org.  Lifi Labs Management Pty Ltd   \n",
       "3        255.0            pool.ntp.org.  Lifi Labs Management Pty Ltd   \n",
       "4        255.0            pool.ntp.org.  Lifi Labs Management Pty Ltd   \n",
       "...        ...                      ...                           ...   \n",
       "3981      64.0              Dan-PC.lan.     AzureWave Technology Inc.   \n",
       "3982      64.0   client-cf.dropbox.com.     AzureWave Technology Inc.   \n",
       "3983      64.0         ssl.gstatic.com.     AzureWave Technology Inc.   \n",
       "3984      64.0              Dan-PC.lan.     AzureWave Technology Inc.   \n",
       "3985       1.0  _googlecast._tcp.local.     AzureWave Technology Inc.   \n",
       "\n",
       "                      device_type  ...  word_idx41  word_idx42  word_idx43  \\\n",
       "0         Netatmo weather station  ...         0.0         0.0         0.0   \n",
       "1     Light Bulbs LiFX Smart Bulb  ...         0.0         0.0         0.0   \n",
       "2     Light Bulbs LiFX Smart Bulb  ...         0.0         0.0         0.0   \n",
       "3     Light Bulbs LiFX Smart Bulb  ...         0.0         0.0         0.0   \n",
       "4     Light Bulbs LiFX Smart Bulb  ...         0.0         0.0         0.0   \n",
       "...                           ...  ...         ...         ...         ...   \n",
       "3981                       Laptop  ...         0.0         0.0         0.0   \n",
       "3982                       Laptop  ...         0.0         0.0         0.0   \n",
       "3983                       Laptop  ...         0.0         0.0         0.0   \n",
       "3984                       Laptop  ...         0.0         0.0         0.0   \n",
       "3985                       Laptop  ...         0.0         0.0         0.0   \n",
       "\n",
       "      word_idx44  word_idx45  word_idx46  word_idx47  word_idx48  word_idx49  \\\n",
       "0            0.0         0.0         0.0         0.0         0.0         0.0   \n",
       "1            0.0         0.0         0.0         0.0         0.0         0.0   \n",
       "2            0.0         0.0         0.0         0.0         0.0         0.0   \n",
       "3            0.0         0.0         0.0         0.0         0.0         0.0   \n",
       "4            0.0         0.0         0.0         0.0         0.0         0.0   \n",
       "...          ...         ...         ...         ...         ...         ...   \n",
       "3981         0.0         0.0         0.0         0.0         0.0         0.0   \n",
       "3982         0.0         0.0         0.0         0.0         0.0         0.0   \n",
       "3983         0.0         0.0         0.0         0.0         0.0         0.0   \n",
       "3984         0.0         0.0         0.0         0.0         0.0         0.0   \n",
       "3985         0.0         0.0         0.0         0.0         0.0         0.0   \n",
       "\n",
       "      word_idx50  \n",
       "0            0.0  \n",
       "1            0.0  \n",
       "2            0.0  \n",
       "3            0.0  \n",
       "4            0.0  \n",
       "...          ...  \n",
       "3981         0.0  \n",
       "3982         0.0  \n",
       "3983         0.0  \n",
       "3984         0.0  \n",
       "3985         0.0  \n",
       "\n",
       "[3986 rows x 60 columns]"
      ]
     },
     "execution_count": 121,
     "metadata": {},
     "output_type": "execute_result"
    }
   ],
   "source": [
    "df"
   ]
  },
  {
   "cell_type": "code",
   "execution_count": 122,
   "metadata": {},
   "outputs": [],
   "source": [
    "import numpy as np\n",
    "\n",
    "df['is_iot'] = np.where(df['device_type'] == 'Other', 0, 1)\n",
    "ports = ['53', '5353', '443', '5000', '49152', '80', '8080', '123', '49153']\n",
    "features = ['dstport', 'srcport']\n",
    "for feature in features:\n",
    "    for port in ports:\n",
    "        exec('df[\\'{}_is_{}\\'] = np.where(df[\\'{}\\'] == \\'{}\\', 1, 0)'.format(\n",
    "                feature, port, feature, port))\n"
   ]
  },
  {
   "cell_type": "code",
   "execution_count": 123,
   "metadata": {},
   "outputs": [],
   "source": [
    "drop_columns = ['srcport', 'dstport', 'device_type']"
   ]
  },
  {
   "cell_type": "code",
   "execution_count": 124,
   "metadata": {},
   "outputs": [],
   "source": [
    "df.drop(drop_columns, axis='columns', inplace=True)"
   ]
  },
  {
   "cell_type": "code",
   "execution_count": 125,
   "metadata": {},
   "outputs": [],
   "source": [
    "df.drop('dnsquery', axis='columns', inplace=True)"
   ]
  },
  {
   "cell_type": "code",
   "execution_count": 126,
   "metadata": {},
   "outputs": [
    {
     "name": "stdout",
     "output_type": "stream",
     "text": [
      "{'Netatmo': 1, 'Lifi Labs Management Pty Ltd': 2, 'Invoxia': 3, 'Withings': 4, 'Unknown': 5, 'Belkin International Inc.': 6, 'Physical Graph Corporation': 7, 'AzureWave Technology Inc.': 8, 'Samsung Electronics Co.,Ltd': 9, 'Amazon Technologies Inc.': 10, 'HTC Corporation': 11}\n"
     ]
    }
   ],
   "source": [
    "mapping = {k: v for v, k in enumerate((x for x in df['manufacturer'].unique() if len(x)>0),1)}\n",
    "print(mapping)"
   ]
  },
  {
   "cell_type": "markdown",
   "metadata": {},
   "source": [
    "**Categorical data mapping**\n",
    "\n",
    "For the deep learning algorithm to work, we need to get rid of all categorical data.  For the Manufacturer's we will create a 1:1 mapping of the manufacturer name as per the wireshark OUI lookup dataset and the relative\n",
    "position of that in our ordered array of unique entries"
   ]
  },
  {
   "cell_type": "code",
   "execution_count": 127,
   "metadata": {},
   "outputs": [],
   "source": [
    "df['manufacturer'] = df['manufacturer'].map(mapping)"
   ]
  },
  {
   "cell_type": "code",
   "execution_count": 128,
   "metadata": {
    "scrolled": true
   },
   "outputs": [
    {
     "data": {
      "text/html": [
       "<div>\n",
       "<style scoped>\n",
       "    .dataframe tbody tr th:only-of-type {\n",
       "        vertical-align: middle;\n",
       "    }\n",
       "\n",
       "    .dataframe tbody tr th {\n",
       "        vertical-align: top;\n",
       "    }\n",
       "\n",
       "    .dataframe thead th {\n",
       "        text-align: right;\n",
       "    }\n",
       "</style>\n",
       "<table border=\"1\" class=\"dataframe\">\n",
       "  <thead>\n",
       "    <tr style=\"text-align: right;\">\n",
       "      <th></th>\n",
       "      <th>totalframesize</th>\n",
       "      <th>minframesize</th>\n",
       "      <th>maxframesize</th>\n",
       "      <th>pktcount</th>\n",
       "      <th>framettl</th>\n",
       "      <th>manufacturer</th>\n",
       "      <th>word_idx1</th>\n",
       "      <th>word_idx2</th>\n",
       "      <th>word_idx3</th>\n",
       "      <th>word_idx4</th>\n",
       "      <th>...</th>\n",
       "      <th>dstport_is_49153</th>\n",
       "      <th>srcport_is_53</th>\n",
       "      <th>srcport_is_5353</th>\n",
       "      <th>srcport_is_443</th>\n",
       "      <th>srcport_is_5000</th>\n",
       "      <th>srcport_is_49152</th>\n",
       "      <th>srcport_is_80</th>\n",
       "      <th>srcport_is_8080</th>\n",
       "      <th>srcport_is_123</th>\n",
       "      <th>srcport_is_49153</th>\n",
       "    </tr>\n",
       "  </thead>\n",
       "  <tbody>\n",
       "    <tr>\n",
       "      <td>count</td>\n",
       "      <td>3986.000000</td>\n",
       "      <td>3986.000000</td>\n",
       "      <td>3986.000000</td>\n",
       "      <td>3986.000000</td>\n",
       "      <td>3986.000000</td>\n",
       "      <td>3986.000000</td>\n",
       "      <td>3986.0</td>\n",
       "      <td>3986.000000</td>\n",
       "      <td>3986.000000</td>\n",
       "      <td>3986.000000</td>\n",
       "      <td>...</td>\n",
       "      <td>3986.0</td>\n",
       "      <td>3986.0</td>\n",
       "      <td>3986.000000</td>\n",
       "      <td>3986.0</td>\n",
       "      <td>3986.0</td>\n",
       "      <td>3986.0</td>\n",
       "      <td>3986.0</td>\n",
       "      <td>3986.0</td>\n",
       "      <td>3986.0</td>\n",
       "      <td>3986.000000</td>\n",
       "    </tr>\n",
       "    <tr>\n",
       "      <td>mean</td>\n",
       "      <td>126.273708</td>\n",
       "      <td>81.449574</td>\n",
       "      <td>81.523081</td>\n",
       "      <td>1.459609</td>\n",
       "      <td>84.513336</td>\n",
       "      <td>6.993728</td>\n",
       "      <td>0.0</td>\n",
       "      <td>0.430256</td>\n",
       "      <td>0.215003</td>\n",
       "      <td>0.215003</td>\n",
       "      <td>...</td>\n",
       "      <td>0.0</td>\n",
       "      <td>0.0</td>\n",
       "      <td>0.000753</td>\n",
       "      <td>0.0</td>\n",
       "      <td>0.0</td>\n",
       "      <td>0.0</td>\n",
       "      <td>0.0</td>\n",
       "      <td>0.0</td>\n",
       "      <td>0.0</td>\n",
       "      <td>0.000753</td>\n",
       "    </tr>\n",
       "    <tr>\n",
       "      <td>std</td>\n",
       "      <td>1228.860161</td>\n",
       "      <td>11.022395</td>\n",
       "      <td>11.129762</td>\n",
       "      <td>9.391232</td>\n",
       "      <td>55.934130</td>\n",
       "      <td>2.734181</td>\n",
       "      <td>0.0</td>\n",
       "      <td>0.495174</td>\n",
       "      <td>0.410876</td>\n",
       "      <td>0.410876</td>\n",
       "      <td>...</td>\n",
       "      <td>0.0</td>\n",
       "      <td>0.0</td>\n",
       "      <td>0.027427</td>\n",
       "      <td>0.0</td>\n",
       "      <td>0.0</td>\n",
       "      <td>0.0</td>\n",
       "      <td>0.0</td>\n",
       "      <td>0.0</td>\n",
       "      <td>0.0</td>\n",
       "      <td>0.027427</td>\n",
       "    </tr>\n",
       "    <tr>\n",
       "      <td>min</td>\n",
       "      <td>68.000000</td>\n",
       "      <td>68.000000</td>\n",
       "      <td>68.000000</td>\n",
       "      <td>1.000000</td>\n",
       "      <td>1.000000</td>\n",
       "      <td>1.000000</td>\n",
       "      <td>0.0</td>\n",
       "      <td>0.000000</td>\n",
       "      <td>0.000000</td>\n",
       "      <td>0.000000</td>\n",
       "      <td>...</td>\n",
       "      <td>0.0</td>\n",
       "      <td>0.0</td>\n",
       "      <td>0.000000</td>\n",
       "      <td>0.0</td>\n",
       "      <td>0.0</td>\n",
       "      <td>0.0</td>\n",
       "      <td>0.0</td>\n",
       "      <td>0.0</td>\n",
       "      <td>0.0</td>\n",
       "      <td>0.000000</td>\n",
       "    </tr>\n",
       "    <tr>\n",
       "      <td>25%</td>\n",
       "      <td>73.000000</td>\n",
       "      <td>73.000000</td>\n",
       "      <td>73.000000</td>\n",
       "      <td>1.000000</td>\n",
       "      <td>64.000000</td>\n",
       "      <td>5.000000</td>\n",
       "      <td>0.0</td>\n",
       "      <td>0.000000</td>\n",
       "      <td>0.000000</td>\n",
       "      <td>0.000000</td>\n",
       "      <td>...</td>\n",
       "      <td>0.0</td>\n",
       "      <td>0.0</td>\n",
       "      <td>0.000000</td>\n",
       "      <td>0.0</td>\n",
       "      <td>0.0</td>\n",
       "      <td>0.0</td>\n",
       "      <td>0.0</td>\n",
       "      <td>0.0</td>\n",
       "      <td>0.0</td>\n",
       "      <td>0.000000</td>\n",
       "    </tr>\n",
       "    <tr>\n",
       "      <td>50%</td>\n",
       "      <td>80.000000</td>\n",
       "      <td>75.000000</td>\n",
       "      <td>75.000000</td>\n",
       "      <td>1.000000</td>\n",
       "      <td>64.000000</td>\n",
       "      <td>8.000000</td>\n",
       "      <td>0.0</td>\n",
       "      <td>0.000000</td>\n",
       "      <td>0.000000</td>\n",
       "      <td>0.000000</td>\n",
       "      <td>...</td>\n",
       "      <td>0.0</td>\n",
       "      <td>0.0</td>\n",
       "      <td>0.000000</td>\n",
       "      <td>0.0</td>\n",
       "      <td>0.0</td>\n",
       "      <td>0.0</td>\n",
       "      <td>0.0</td>\n",
       "      <td>0.0</td>\n",
       "      <td>0.0</td>\n",
       "      <td>0.000000</td>\n",
       "    </tr>\n",
       "    <tr>\n",
       "      <td>75%</td>\n",
       "      <td>100.000000</td>\n",
       "      <td>90.000000</td>\n",
       "      <td>90.000000</td>\n",
       "      <td>1.000000</td>\n",
       "      <td>64.000000</td>\n",
       "      <td>9.000000</td>\n",
       "      <td>0.0</td>\n",
       "      <td>1.000000</td>\n",
       "      <td>0.000000</td>\n",
       "      <td>0.000000</td>\n",
       "      <td>...</td>\n",
       "      <td>0.0</td>\n",
       "      <td>0.0</td>\n",
       "      <td>0.000000</td>\n",
       "      <td>0.0</td>\n",
       "      <td>0.0</td>\n",
       "      <td>0.0</td>\n",
       "      <td>0.0</td>\n",
       "      <td>0.0</td>\n",
       "      <td>0.0</td>\n",
       "      <td>0.000000</td>\n",
       "    </tr>\n",
       "    <tr>\n",
       "      <td>max</td>\n",
       "      <td>73500.000000</td>\n",
       "      <td>133.000000</td>\n",
       "      <td>168.000000</td>\n",
       "      <td>513.000000</td>\n",
       "      <td>255.000000</td>\n",
       "      <td>11.000000</td>\n",
       "      <td>0.0</td>\n",
       "      <td>1.000000</td>\n",
       "      <td>1.000000</td>\n",
       "      <td>1.000000</td>\n",
       "      <td>...</td>\n",
       "      <td>0.0</td>\n",
       "      <td>0.0</td>\n",
       "      <td>1.000000</td>\n",
       "      <td>0.0</td>\n",
       "      <td>0.0</td>\n",
       "      <td>0.0</td>\n",
       "      <td>0.0</td>\n",
       "      <td>0.0</td>\n",
       "      <td>0.0</td>\n",
       "      <td>1.000000</td>\n",
       "    </tr>\n",
       "  </tbody>\n",
       "</table>\n",
       "<p>8 rows × 75 columns</p>\n",
       "</div>"
      ],
      "text/plain": [
       "       totalframesize  minframesize  maxframesize     pktcount     framettl  \\\n",
       "count     3986.000000   3986.000000   3986.000000  3986.000000  3986.000000   \n",
       "mean       126.273708     81.449574     81.523081     1.459609    84.513336   \n",
       "std       1228.860161     11.022395     11.129762     9.391232    55.934130   \n",
       "min         68.000000     68.000000     68.000000     1.000000     1.000000   \n",
       "25%         73.000000     73.000000     73.000000     1.000000    64.000000   \n",
       "50%         80.000000     75.000000     75.000000     1.000000    64.000000   \n",
       "75%        100.000000     90.000000     90.000000     1.000000    64.000000   \n",
       "max      73500.000000    133.000000    168.000000   513.000000   255.000000   \n",
       "\n",
       "       manufacturer  word_idx1    word_idx2    word_idx3    word_idx4  ...  \\\n",
       "count   3986.000000     3986.0  3986.000000  3986.000000  3986.000000  ...   \n",
       "mean       6.993728        0.0     0.430256     0.215003     0.215003  ...   \n",
       "std        2.734181        0.0     0.495174     0.410876     0.410876  ...   \n",
       "min        1.000000        0.0     0.000000     0.000000     0.000000  ...   \n",
       "25%        5.000000        0.0     0.000000     0.000000     0.000000  ...   \n",
       "50%        8.000000        0.0     0.000000     0.000000     0.000000  ...   \n",
       "75%        9.000000        0.0     1.000000     0.000000     0.000000  ...   \n",
       "max       11.000000        0.0     1.000000     1.000000     1.000000  ...   \n",
       "\n",
       "       dstport_is_49153  srcport_is_53  srcport_is_5353  srcport_is_443  \\\n",
       "count            3986.0         3986.0      3986.000000          3986.0   \n",
       "mean                0.0            0.0         0.000753             0.0   \n",
       "std                 0.0            0.0         0.027427             0.0   \n",
       "min                 0.0            0.0         0.000000             0.0   \n",
       "25%                 0.0            0.0         0.000000             0.0   \n",
       "50%                 0.0            0.0         0.000000             0.0   \n",
       "75%                 0.0            0.0         0.000000             0.0   \n",
       "max                 0.0            0.0         1.000000             0.0   \n",
       "\n",
       "       srcport_is_5000  srcport_is_49152  srcport_is_80  srcport_is_8080  \\\n",
       "count           3986.0            3986.0         3986.0           3986.0   \n",
       "mean               0.0               0.0            0.0              0.0   \n",
       "std                0.0               0.0            0.0              0.0   \n",
       "min                0.0               0.0            0.0              0.0   \n",
       "25%                0.0               0.0            0.0              0.0   \n",
       "50%                0.0               0.0            0.0              0.0   \n",
       "75%                0.0               0.0            0.0              0.0   \n",
       "max                0.0               0.0            0.0              0.0   \n",
       "\n",
       "       srcport_is_123  srcport_is_49153  \n",
       "count          3986.0       3986.000000  \n",
       "mean              0.0          0.000753  \n",
       "std               0.0          0.027427  \n",
       "min               0.0          0.000000  \n",
       "25%               0.0          0.000000  \n",
       "50%               0.0          0.000000  \n",
       "75%               0.0          0.000000  \n",
       "max               0.0          1.000000  \n",
       "\n",
       "[8 rows x 75 columns]"
      ]
     },
     "execution_count": 128,
     "metadata": {},
     "output_type": "execute_result"
    }
   ],
   "source": [
    "df.describe()"
   ]
  },
  {
   "cell_type": "code",
   "execution_count": 129,
   "metadata": {},
   "outputs": [],
   "source": [
    "features = ['totalframesize', 'minframesize', 'maxframesize', 'pktcount', 'framettl']\n",
    "for feature in features:\n",
    "    df[feature] = (df[feature] - df[feature].mean()) / \\\n",
    "        (df[feature].max() - df[feature].min())"
   ]
  },
  {
   "cell_type": "code",
   "execution_count": 130,
   "metadata": {},
   "outputs": [
    {
     "data": {
      "text/html": [
       "<div>\n",
       "<style scoped>\n",
       "    .dataframe tbody tr th:only-of-type {\n",
       "        vertical-align: middle;\n",
       "    }\n",
       "\n",
       "    .dataframe tbody tr th {\n",
       "        vertical-align: top;\n",
       "    }\n",
       "\n",
       "    .dataframe thead th {\n",
       "        text-align: right;\n",
       "    }\n",
       "</style>\n",
       "<table border=\"1\" class=\"dataframe\">\n",
       "  <thead>\n",
       "    <tr style=\"text-align: right;\">\n",
       "      <th></th>\n",
       "      <th>totalframesize</th>\n",
       "      <th>minframesize</th>\n",
       "      <th>maxframesize</th>\n",
       "      <th>pktcount</th>\n",
       "      <th>framettl</th>\n",
       "      <th>manufacturer</th>\n",
       "      <th>word_idx1</th>\n",
       "      <th>word_idx2</th>\n",
       "      <th>word_idx3</th>\n",
       "      <th>word_idx4</th>\n",
       "      <th>...</th>\n",
       "      <th>dstport_is_49153</th>\n",
       "      <th>srcport_is_53</th>\n",
       "      <th>srcport_is_5353</th>\n",
       "      <th>srcport_is_443</th>\n",
       "      <th>srcport_is_5000</th>\n",
       "      <th>srcport_is_49152</th>\n",
       "      <th>srcport_is_80</th>\n",
       "      <th>srcport_is_8080</th>\n",
       "      <th>srcport_is_123</th>\n",
       "      <th>srcport_is_49153</th>\n",
       "    </tr>\n",
       "  </thead>\n",
       "  <tbody>\n",
       "    <tr>\n",
       "      <td>0</td>\n",
       "      <td>0.205411</td>\n",
       "      <td>-0.053070</td>\n",
       "      <td>-0.035231</td>\n",
       "      <td>0.378009</td>\n",
       "      <td>0.671207</td>\n",
       "      <td>1</td>\n",
       "      <td>0.0</td>\n",
       "      <td>0.0</td>\n",
       "      <td>0.0</td>\n",
       "      <td>0.0</td>\n",
       "      <td>...</td>\n",
       "      <td>0</td>\n",
       "      <td>0</td>\n",
       "      <td>0</td>\n",
       "      <td>0</td>\n",
       "      <td>0</td>\n",
       "      <td>0</td>\n",
       "      <td>0</td>\n",
       "      <td>0</td>\n",
       "      <td>0</td>\n",
       "      <td>0</td>\n",
       "    </tr>\n",
       "    <tr>\n",
       "      <td>1</td>\n",
       "      <td>-0.000739</td>\n",
       "      <td>-0.145378</td>\n",
       "      <td>-0.095231</td>\n",
       "      <td>-0.000898</td>\n",
       "      <td>0.671207</td>\n",
       "      <td>2</td>\n",
       "      <td>0.0</td>\n",
       "      <td>0.0</td>\n",
       "      <td>0.0</td>\n",
       "      <td>0.0</td>\n",
       "      <td>...</td>\n",
       "      <td>0</td>\n",
       "      <td>0</td>\n",
       "      <td>0</td>\n",
       "      <td>0</td>\n",
       "      <td>0</td>\n",
       "      <td>0</td>\n",
       "      <td>0</td>\n",
       "      <td>0</td>\n",
       "      <td>0</td>\n",
       "      <td>0</td>\n",
       "    </tr>\n",
       "    <tr>\n",
       "      <td>2</td>\n",
       "      <td>-0.000739</td>\n",
       "      <td>-0.145378</td>\n",
       "      <td>-0.095231</td>\n",
       "      <td>-0.000898</td>\n",
       "      <td>0.671207</td>\n",
       "      <td>2</td>\n",
       "      <td>0.0</td>\n",
       "      <td>0.0</td>\n",
       "      <td>0.0</td>\n",
       "      <td>0.0</td>\n",
       "      <td>...</td>\n",
       "      <td>0</td>\n",
       "      <td>0</td>\n",
       "      <td>0</td>\n",
       "      <td>0</td>\n",
       "      <td>0</td>\n",
       "      <td>0</td>\n",
       "      <td>0</td>\n",
       "      <td>0</td>\n",
       "      <td>0</td>\n",
       "      <td>0</td>\n",
       "    </tr>\n",
       "    <tr>\n",
       "      <td>3</td>\n",
       "      <td>-0.000739</td>\n",
       "      <td>-0.145378</td>\n",
       "      <td>-0.095231</td>\n",
       "      <td>-0.000898</td>\n",
       "      <td>0.671207</td>\n",
       "      <td>2</td>\n",
       "      <td>0.0</td>\n",
       "      <td>0.0</td>\n",
       "      <td>0.0</td>\n",
       "      <td>0.0</td>\n",
       "      <td>...</td>\n",
       "      <td>0</td>\n",
       "      <td>0</td>\n",
       "      <td>0</td>\n",
       "      <td>0</td>\n",
       "      <td>0</td>\n",
       "      <td>0</td>\n",
       "      <td>0</td>\n",
       "      <td>0</td>\n",
       "      <td>0</td>\n",
       "      <td>0</td>\n",
       "    </tr>\n",
       "    <tr>\n",
       "      <td>4</td>\n",
       "      <td>-0.000739</td>\n",
       "      <td>-0.145378</td>\n",
       "      <td>-0.095231</td>\n",
       "      <td>-0.000898</td>\n",
       "      <td>0.671207</td>\n",
       "      <td>2</td>\n",
       "      <td>0.0</td>\n",
       "      <td>0.0</td>\n",
       "      <td>0.0</td>\n",
       "      <td>0.0</td>\n",
       "      <td>...</td>\n",
       "      <td>0</td>\n",
       "      <td>0</td>\n",
       "      <td>0</td>\n",
       "      <td>0</td>\n",
       "      <td>0</td>\n",
       "      <td>0</td>\n",
       "      <td>0</td>\n",
       "      <td>0</td>\n",
       "      <td>0</td>\n",
       "      <td>0</td>\n",
       "    </tr>\n",
       "  </tbody>\n",
       "</table>\n",
       "<p>5 rows × 75 columns</p>\n",
       "</div>"
      ],
      "text/plain": [
       "   totalframesize  minframesize  maxframesize  pktcount  framettl  \\\n",
       "0        0.205411     -0.053070     -0.035231  0.378009  0.671207   \n",
       "1       -0.000739     -0.145378     -0.095231 -0.000898  0.671207   \n",
       "2       -0.000739     -0.145378     -0.095231 -0.000898  0.671207   \n",
       "3       -0.000739     -0.145378     -0.095231 -0.000898  0.671207   \n",
       "4       -0.000739     -0.145378     -0.095231 -0.000898  0.671207   \n",
       "\n",
       "   manufacturer  word_idx1  word_idx2  word_idx3  word_idx4  ...  \\\n",
       "0             1        0.0        0.0        0.0        0.0  ...   \n",
       "1             2        0.0        0.0        0.0        0.0  ...   \n",
       "2             2        0.0        0.0        0.0        0.0  ...   \n",
       "3             2        0.0        0.0        0.0        0.0  ...   \n",
       "4             2        0.0        0.0        0.0        0.0  ...   \n",
       "\n",
       "   dstport_is_49153  srcport_is_53  srcport_is_5353  srcport_is_443  \\\n",
       "0                 0              0                0               0   \n",
       "1                 0              0                0               0   \n",
       "2                 0              0                0               0   \n",
       "3                 0              0                0               0   \n",
       "4                 0              0                0               0   \n",
       "\n",
       "   srcport_is_5000  srcport_is_49152  srcport_is_80  srcport_is_8080  \\\n",
       "0                0                 0              0                0   \n",
       "1                0                 0              0                0   \n",
       "2                0                 0              0                0   \n",
       "3                0                 0              0                0   \n",
       "4                0                 0              0                0   \n",
       "\n",
       "   srcport_is_123  srcport_is_49153  \n",
       "0               0                 0  \n",
       "1               0                 0  \n",
       "2               0                 0  \n",
       "3               0                 0  \n",
       "4               0                 0  \n",
       "\n",
       "[5 rows x 75 columns]"
      ]
     },
     "execution_count": 130,
     "metadata": {},
     "output_type": "execute_result"
    }
   ],
   "source": [
    "df.head()"
   ]
  },
  {
   "cell_type": "markdown",
   "metadata": {},
   "source": [
    "# Machine learning - session 1\n",
    "\n",
    "Firstly, we will try to see if we can converge our model, we'll split the dataset as follows:\n",
    "\n",
    "1. Training set (80%)\n",
    "2. Test set (20%)\n",
    "3. We have not set up a validation set as we will continue to validate the model against new captures\n",
    "\n",
    "The first model will be pretty basic and will only be able to `predict` if session data corresponds to an IoT device or not.\n",
    "\n",
    "Later runs will refine the model to try to predict the device name from the data that we pass to it.  The DNN will be compriosed of the following layers:\n",
    "\n",
    "[Input Layer: 4 inputs] -> [Hidden layer 1: 32 nodes] -> [Hidden layer 2: 64 nodes] -> [Hidden layer 3: 32 nodes] -> [Output layer: 1 output]\n",
    "\n",
    "the `relu` activation function defined as f(x) = max(0, x) will be used for each layer apart from the last layer which will use the sigmoid function.  The adam optimiser will be used and the loss function will be the binary_crossentropy which is best for binary classification problems.\n"
   ]
  },
  {
   "cell_type": "code",
   "execution_count": 131,
   "metadata": {},
   "outputs": [],
   "source": [
    "from sklearn.model_selection import train_test_split"
   ]
  },
  {
   "cell_type": "code",
   "execution_count": 132,
   "metadata": {},
   "outputs": [],
   "source": [
    "features = df.drop('is_iot', axis=1).values"
   ]
  },
  {
   "cell_type": "code",
   "execution_count": 133,
   "metadata": {},
   "outputs": [],
   "source": [
    "labels = df['is_iot'].values"
   ]
  },
  {
   "cell_type": "code",
   "execution_count": 134,
   "metadata": {},
   "outputs": [
    {
     "data": {
      "text/plain": [
       "75"
      ]
     },
     "execution_count": 134,
     "metadata": {},
     "output_type": "execute_result"
    }
   ],
   "source": [
    "df.shape[1]"
   ]
  },
  {
   "cell_type": "code",
   "execution_count": 135,
   "metadata": {},
   "outputs": [
    {
     "data": {
      "text/plain": [
       "74"
      ]
     },
     "execution_count": 135,
     "metadata": {},
     "output_type": "execute_result"
    }
   ],
   "source": [
    "features.shape[1]"
   ]
  },
  {
   "cell_type": "code",
   "execution_count": 136,
   "metadata": {},
   "outputs": [],
   "source": [
    "X_train, X_test, Y_train, Y_test = train_test_split(features, labels, test_size=0.2, random_state=42)"
   ]
  },
  {
   "cell_type": "code",
   "execution_count": 137,
   "metadata": {},
   "outputs": [
    {
     "name": "stdout",
     "output_type": "stream",
     "text": [
      "3986::3188::798\n"
     ]
    }
   ],
   "source": [
    "print(len(labels), len(Y_train), len(Y_test), sep='::')"
   ]
  },
  {
   "cell_type": "code",
   "execution_count": 138,
   "metadata": {},
   "outputs": [],
   "source": [
    "from xgboost import XGBClassifier\n",
    "from matplotlib import pyplot\n",
    "from sklearn.model_selection import StratifiedKFold\n",
    "from sklearn.model_selection import cross_val_score\n",
    "from sklearn.metrics import accuracy_score\n",
    "from sklearn.feature_selection import SelectFromModel\n",
    "from xgboost import plot_tree\n",
    "from matplotlib import pyplot\n",
    "from numpy import sort"
   ]
  },
  {
   "cell_type": "code",
   "execution_count": 139,
   "metadata": {},
   "outputs": [],
   "source": [
    "model = XGBClassifier()\n"
   ]
  },
  {
   "cell_type": "code",
   "execution_count": 140,
   "metadata": {},
   "outputs": [],
   "source": [
    "# model.fit(X_train, Y_train)\n",
    "#  predictions = model.predict(X_test)\n",
    "\n"
   ]
  },
  {
   "cell_type": "code",
   "execution_count": 141,
   "metadata": {},
   "outputs": [
    {
     "data": {
      "image/png": "[encoded data removed]",
      "text/plain": [
       "<Figure size 10800x14400 with 1 Axes>"
      ]
     },
     "metadata": {
      "needs_background": "light"
     },
     "output_type": "display_data"
    }
   ],
   "source": [
    "model.fit(X_train, Y_train)\n",
    "plot_tree(model, num_trees=4, rankdir='LR')\n",
    "fig = pyplot.gcf()\n",
    "fig.set_size_inches(150, 200)\n",
    "\n",
    "pyplot.show()\n",
    "\n"
   ]
  },
  {
   "cell_type": "code",
   "execution_count": 142,
   "metadata": {},
   "outputs": [
    {
     "name": "stdout",
     "output_type": "stream",
     "text": [
      "Accuracy: 100.00000000% (0.00000000%)\n"
     ]
    }
   ],
   "source": [
    "kfold = StratifiedKFold(n_splits=10, random_state=7)\n",
    "results = cross_val_score(model, X_train, Y_train, cv=kfold)\n",
    "print(\"Accuracy: %.8f%% (%.8f%%)\" % (results.mean()*100, results.std()*100))"
   ]
  },
  {
   "cell_type": "code",
   "execution_count": 101,
   "metadata": {},
   "outputs": [
    {
     "name": "stderr",
     "output_type": "stream",
     "text": [
      "/home/ricdeez/.virtualenvs/ml/lib/python3.7/site-packages/xgboost/sklearn.py:546: RuntimeWarning: invalid value encountered in true_divide\n",
      "  return all_features / all_features.sum()\n",
      "/home/ricdeez/.virtualenvs/ml/lib/python3.7/site-packages/xgboost/sklearn.py:546: RuntimeWarning: invalid value encountered in true_divide\n",
      "  return all_features / all_features.sum()\n",
      "/home/ricdeez/.virtualenvs/ml/lib/python3.7/site-packages/sklearn/feature_selection/from_model.py:161: RuntimeWarning: invalid value encountered in less\n",
      "  mask[scores < threshold] = False\n",
      "/home/ricdeez/.virtualenvs/ml/lib/python3.7/site-packages/xgboost/sklearn.py:546: RuntimeWarning: invalid value encountered in true_divide\n",
      "  return all_features / all_features.sum()\n",
      "/home/ricdeez/.virtualenvs/ml/lib/python3.7/site-packages/sklearn/feature_selection/from_model.py:161: RuntimeWarning: invalid value encountered in less\n",
      "  mask[scores < threshold] = False\n",
      "/home/ricdeez/.virtualenvs/ml/lib/python3.7/site-packages/xgboost/sklearn.py:546: RuntimeWarning: invalid value encountered in true_divide\n",
      "  return all_features / all_features.sum()\n",
      "/home/ricdeez/.virtualenvs/ml/lib/python3.7/site-packages/sklearn/feature_selection/from_model.py:161: RuntimeWarning: invalid value encountered in less\n",
      "  mask[scores < threshold] = False\n"
     ]
    },
    {
     "name": "stdout",
     "output_type": "stream",
     "text": [
      "Thresh=nan, n=74, Accuracy: 100.00%\n"
     ]
    },
    {
     "name": "stderr",
     "output_type": "stream",
     "text": [
      "/home/ricdeez/.virtualenvs/ml/lib/python3.7/site-packages/xgboost/sklearn.py:546: RuntimeWarning: invalid value encountered in true_divide\n",
      "  return all_features / all_features.sum()\n",
      "/home/ricdeez/.virtualenvs/ml/lib/python3.7/site-packages/sklearn/feature_selection/from_model.py:161: RuntimeWarning: invalid value encountered in less\n",
      "  mask[scores < threshold] = False\n",
      "/home/ricdeez/.virtualenvs/ml/lib/python3.7/site-packages/xgboost/sklearn.py:546: RuntimeWarning: invalid value encountered in true_divide\n",
      "  return all_features / all_features.sum()\n",
      "/home/ricdeez/.virtualenvs/ml/lib/python3.7/site-packages/sklearn/feature_selection/from_model.py:161: RuntimeWarning: invalid value encountered in less\n",
      "  mask[scores < threshold] = False\n"
     ]
    },
    {
     "name": "stdout",
     "output_type": "stream",
     "text": [
      "Thresh=nan, n=74, Accuracy: 100.00%\n"
     ]
    },
    {
     "name": "stderr",
     "output_type": "stream",
     "text": [
      "/home/ricdeez/.virtualenvs/ml/lib/python3.7/site-packages/xgboost/sklearn.py:546: RuntimeWarning: invalid value encountered in true_divide\n",
      "  return all_features / all_features.sum()\n",
      "/home/ricdeez/.virtualenvs/ml/lib/python3.7/site-packages/sklearn/feature_selection/from_model.py:161: RuntimeWarning: invalid value encountered in less\n",
      "  mask[scores < threshold] = False\n",
      "/home/ricdeez/.virtualenvs/ml/lib/python3.7/site-packages/xgboost/sklearn.py:546: RuntimeWarning: invalid value encountered in true_divide\n",
      "  return all_features / all_features.sum()\n",
      "/home/ricdeez/.virtualenvs/ml/lib/python3.7/site-packages/sklearn/feature_selection/from_model.py:161: RuntimeWarning: invalid value encountered in less\n",
      "  mask[scores < threshold] = False\n"
     ]
    },
    {
     "name": "stdout",
     "output_type": "stream",
     "text": [
      "Thresh=nan, n=74, Accuracy: 100.00%\n"
     ]
    },
    {
     "name": "stderr",
     "output_type": "stream",
     "text": [
      "/home/ricdeez/.virtualenvs/ml/lib/python3.7/site-packages/xgboost/sklearn.py:546: RuntimeWarning: invalid value encountered in true_divide\n",
      "  return all_features / all_features.sum()\n",
      "/home/ricdeez/.virtualenvs/ml/lib/python3.7/site-packages/sklearn/feature_selection/from_model.py:161: RuntimeWarning: invalid value encountered in less\n",
      "  mask[scores < threshold] = False\n",
      "/home/ricdeez/.virtualenvs/ml/lib/python3.7/site-packages/xgboost/sklearn.py:546: RuntimeWarning: invalid value encountered in true_divide\n",
      "  return all_features / all_features.sum()\n",
      "/home/ricdeez/.virtualenvs/ml/lib/python3.7/site-packages/sklearn/feature_selection/from_model.py:161: RuntimeWarning: invalid value encountered in less\n",
      "  mask[scores < threshold] = False\n"
     ]
    },
    {
     "name": "stdout",
     "output_type": "stream",
     "text": [
      "Thresh=nan, n=74, Accuracy: 100.00%\n"
     ]
    },
    {
     "name": "stderr",
     "output_type": "stream",
     "text": [
      "/home/ricdeez/.virtualenvs/ml/lib/python3.7/site-packages/xgboost/sklearn.py:546: RuntimeWarning: invalid value encountered in true_divide\n",
      "  return all_features / all_features.sum()\n",
      "/home/ricdeez/.virtualenvs/ml/lib/python3.7/site-packages/sklearn/feature_selection/from_model.py:161: RuntimeWarning: invalid value encountered in less\n",
      "  mask[scores < threshold] = False\n",
      "/home/ricdeez/.virtualenvs/ml/lib/python3.7/site-packages/xgboost/sklearn.py:546: RuntimeWarning: invalid value encountered in true_divide\n",
      "  return all_features / all_features.sum()\n",
      "/home/ricdeez/.virtualenvs/ml/lib/python3.7/site-packages/sklearn/feature_selection/from_model.py:161: RuntimeWarning: invalid value encountered in less\n",
      "  mask[scores < threshold] = False\n"
     ]
    },
    {
     "name": "stdout",
     "output_type": "stream",
     "text": [
      "Thresh=nan, n=74, Accuracy: 100.00%\n"
     ]
    },
    {
     "name": "stderr",
     "output_type": "stream",
     "text": [
      "/home/ricdeez/.virtualenvs/ml/lib/python3.7/site-packages/xgboost/sklearn.py:546: RuntimeWarning: invalid value encountered in true_divide\n",
      "  return all_features / all_features.sum()\n",
      "/home/ricdeez/.virtualenvs/ml/lib/python3.7/site-packages/sklearn/feature_selection/from_model.py:161: RuntimeWarning: invalid value encountered in less\n",
      "  mask[scores < threshold] = False\n",
      "/home/ricdeez/.virtualenvs/ml/lib/python3.7/site-packages/xgboost/sklearn.py:546: RuntimeWarning: invalid value encountered in true_divide\n",
      "  return all_features / all_features.sum()\n",
      "/home/ricdeez/.virtualenvs/ml/lib/python3.7/site-packages/sklearn/feature_selection/from_model.py:161: RuntimeWarning: invalid value encountered in less\n",
      "  mask[scores < threshold] = False\n"
     ]
    },
    {
     "name": "stdout",
     "output_type": "stream",
     "text": [
      "Thresh=nan, n=74, Accuracy: 100.00%\n"
     ]
    },
    {
     "name": "stderr",
     "output_type": "stream",
     "text": [
      "/home/ricdeez/.virtualenvs/ml/lib/python3.7/site-packages/xgboost/sklearn.py:546: RuntimeWarning: invalid value encountered in true_divide\n",
      "  return all_features / all_features.sum()\n",
      "/home/ricdeez/.virtualenvs/ml/lib/python3.7/site-packages/sklearn/feature_selection/from_model.py:161: RuntimeWarning: invalid value encountered in less\n",
      "  mask[scores < threshold] = False\n",
      "/home/ricdeez/.virtualenvs/ml/lib/python3.7/site-packages/xgboost/sklearn.py:546: RuntimeWarning: invalid value encountered in true_divide\n",
      "  return all_features / all_features.sum()\n",
      "/home/ricdeez/.virtualenvs/ml/lib/python3.7/site-packages/sklearn/feature_selection/from_model.py:161: RuntimeWarning: invalid value encountered in less\n",
      "  mask[scores < threshold] = False\n"
     ]
    },
    {
     "name": "stdout",
     "output_type": "stream",
     "text": [
      "Thresh=nan, n=74, Accuracy: 100.00%\n"
     ]
    },
    {
     "name": "stderr",
     "output_type": "stream",
     "text": [
      "/home/ricdeez/.virtualenvs/ml/lib/python3.7/site-packages/xgboost/sklearn.py:546: RuntimeWarning: invalid value encountered in true_divide\n",
      "  return all_features / all_features.sum()\n",
      "/home/ricdeez/.virtualenvs/ml/lib/python3.7/site-packages/sklearn/feature_selection/from_model.py:161: RuntimeWarning: invalid value encountered in less\n",
      "  mask[scores < threshold] = False\n",
      "/home/ricdeez/.virtualenvs/ml/lib/python3.7/site-packages/xgboost/sklearn.py:546: RuntimeWarning: invalid value encountered in true_divide\n",
      "  return all_features / all_features.sum()\n",
      "/home/ricdeez/.virtualenvs/ml/lib/python3.7/site-packages/sklearn/feature_selection/from_model.py:161: RuntimeWarning: invalid value encountered in less\n",
      "  mask[scores < threshold] = False\n"
     ]
    },
    {
     "name": "stdout",
     "output_type": "stream",
     "text": [
      "Thresh=nan, n=74, Accuracy: 100.00%\n"
     ]
    },
    {
     "name": "stderr",
     "output_type": "stream",
     "text": [
      "/home/ricdeez/.virtualenvs/ml/lib/python3.7/site-packages/xgboost/sklearn.py:546: RuntimeWarning: invalid value encountered in true_divide\n",
      "  return all_features / all_features.sum()\n",
      "/home/ricdeez/.virtualenvs/ml/lib/python3.7/site-packages/sklearn/feature_selection/from_model.py:161: RuntimeWarning: invalid value encountered in less\n",
      "  mask[scores < threshold] = False\n",
      "/home/ricdeez/.virtualenvs/ml/lib/python3.7/site-packages/xgboost/sklearn.py:546: RuntimeWarning: invalid value encountered in true_divide\n",
      "  return all_features / all_features.sum()\n",
      "/home/ricdeez/.virtualenvs/ml/lib/python3.7/site-packages/sklearn/feature_selection/from_model.py:161: RuntimeWarning: invalid value encountered in less\n",
      "  mask[scores < threshold] = False\n"
     ]
    },
    {
     "name": "stdout",
     "output_type": "stream",
     "text": [
      "Thresh=nan, n=74, Accuracy: 100.00%\n"
     ]
    },
    {
     "name": "stderr",
     "output_type": "stream",
     "text": [
      "/home/ricdeez/.virtualenvs/ml/lib/python3.7/site-packages/xgboost/sklearn.py:546: RuntimeWarning: invalid value encountered in true_divide\n",
      "  return all_features / all_features.sum()\n",
      "/home/ricdeez/.virtualenvs/ml/lib/python3.7/site-packages/sklearn/feature_selection/from_model.py:161: RuntimeWarning: invalid value encountered in less\n",
      "  mask[scores < threshold] = False\n",
      "/home/ricdeez/.virtualenvs/ml/lib/python3.7/site-packages/xgboost/sklearn.py:546: RuntimeWarning: invalid value encountered in true_divide\n",
      "  return all_features / all_features.sum()\n",
      "/home/ricdeez/.virtualenvs/ml/lib/python3.7/site-packages/sklearn/feature_selection/from_model.py:161: RuntimeWarning: invalid value encountered in less\n",
      "  mask[scores < threshold] = False\n"
     ]
    },
    {
     "name": "stdout",
     "output_type": "stream",
     "text": [
      "Thresh=nan, n=74, Accuracy: 100.00%\n"
     ]
    },
    {
     "name": "stderr",
     "output_type": "stream",
     "text": [
      "/home/ricdeez/.virtualenvs/ml/lib/python3.7/site-packages/xgboost/sklearn.py:546: RuntimeWarning: invalid value encountered in true_divide\n",
      "  return all_features / all_features.sum()\n",
      "/home/ricdeez/.virtualenvs/ml/lib/python3.7/site-packages/sklearn/feature_selection/from_model.py:161: RuntimeWarning: invalid value encountered in less\n",
      "  mask[scores < threshold] = False\n",
      "/home/ricdeez/.virtualenvs/ml/lib/python3.7/site-packages/xgboost/sklearn.py:546: RuntimeWarning: invalid value encountered in true_divide\n",
      "  return all_features / all_features.sum()\n",
      "/home/ricdeez/.virtualenvs/ml/lib/python3.7/site-packages/sklearn/feature_selection/from_model.py:161: RuntimeWarning: invalid value encountered in less\n",
      "  mask[scores < threshold] = False\n"
     ]
    },
    {
     "name": "stdout",
     "output_type": "stream",
     "text": [
      "Thresh=nan, n=74, Accuracy: 100.00%\n"
     ]
    },
    {
     "name": "stderr",
     "output_type": "stream",
     "text": [
      "/home/ricdeez/.virtualenvs/ml/lib/python3.7/site-packages/xgboost/sklearn.py:546: RuntimeWarning: invalid value encountered in true_divide\n",
      "  return all_features / all_features.sum()\n",
      "/home/ricdeez/.virtualenvs/ml/lib/python3.7/site-packages/sklearn/feature_selection/from_model.py:161: RuntimeWarning: invalid value encountered in less\n",
      "  mask[scores < threshold] = False\n",
      "/home/ricdeez/.virtualenvs/ml/lib/python3.7/site-packages/xgboost/sklearn.py:546: RuntimeWarning: invalid value encountered in true_divide\n",
      "  return all_features / all_features.sum()\n",
      "/home/ricdeez/.virtualenvs/ml/lib/python3.7/site-packages/sklearn/feature_selection/from_model.py:161: RuntimeWarning: invalid value encountered in less\n",
      "  mask[scores < threshold] = False\n"
     ]
    },
    {
     "name": "stdout",
     "output_type": "stream",
     "text": [
      "Thresh=nan, n=74, Accuracy: 100.00%\n"
     ]
    },
    {
     "name": "stderr",
     "output_type": "stream",
     "text": [
      "/home/ricdeez/.virtualenvs/ml/lib/python3.7/site-packages/xgboost/sklearn.py:546: RuntimeWarning: invalid value encountered in true_divide\n",
      "  return all_features / all_features.sum()\n",
      "/home/ricdeez/.virtualenvs/ml/lib/python3.7/site-packages/sklearn/feature_selection/from_model.py:161: RuntimeWarning: invalid value encountered in less\n",
      "  mask[scores < threshold] = False\n",
      "/home/ricdeez/.virtualenvs/ml/lib/python3.7/site-packages/xgboost/sklearn.py:546: RuntimeWarning: invalid value encountered in true_divide\n",
      "  return all_features / all_features.sum()\n",
      "/home/ricdeez/.virtualenvs/ml/lib/python3.7/site-packages/sklearn/feature_selection/from_model.py:161: RuntimeWarning: invalid value encountered in less\n",
      "  mask[scores < threshold] = False\n"
     ]
    },
    {
     "name": "stdout",
     "output_type": "stream",
     "text": [
      "Thresh=nan, n=74, Accuracy: 100.00%\n"
     ]
    },
    {
     "name": "stderr",
     "output_type": "stream",
     "text": [
      "/home/ricdeez/.virtualenvs/ml/lib/python3.7/site-packages/xgboost/sklearn.py:546: RuntimeWarning: invalid value encountered in true_divide\n",
      "  return all_features / all_features.sum()\n",
      "/home/ricdeez/.virtualenvs/ml/lib/python3.7/site-packages/sklearn/feature_selection/from_model.py:161: RuntimeWarning: invalid value encountered in less\n",
      "  mask[scores < threshold] = False\n",
      "/home/ricdeez/.virtualenvs/ml/lib/python3.7/site-packages/xgboost/sklearn.py:546: RuntimeWarning: invalid value encountered in true_divide\n",
      "  return all_features / all_features.sum()\n",
      "/home/ricdeez/.virtualenvs/ml/lib/python3.7/site-packages/sklearn/feature_selection/from_model.py:161: RuntimeWarning: invalid value encountered in less\n",
      "  mask[scores < threshold] = False\n"
     ]
    },
    {
     "name": "stdout",
     "output_type": "stream",
     "text": [
      "Thresh=nan, n=74, Accuracy: 100.00%\n"
     ]
    },
    {
     "name": "stderr",
     "output_type": "stream",
     "text": [
      "/home/ricdeez/.virtualenvs/ml/lib/python3.7/site-packages/xgboost/sklearn.py:546: RuntimeWarning: invalid value encountered in true_divide\n",
      "  return all_features / all_features.sum()\n",
      "/home/ricdeez/.virtualenvs/ml/lib/python3.7/site-packages/sklearn/feature_selection/from_model.py:161: RuntimeWarning: invalid value encountered in less\n",
      "  mask[scores < threshold] = False\n",
      "/home/ricdeez/.virtualenvs/ml/lib/python3.7/site-packages/xgboost/sklearn.py:546: RuntimeWarning: invalid value encountered in true_divide\n",
      "  return all_features / all_features.sum()\n",
      "/home/ricdeez/.virtualenvs/ml/lib/python3.7/site-packages/sklearn/feature_selection/from_model.py:161: RuntimeWarning: invalid value encountered in less\n",
      "  mask[scores < threshold] = False\n"
     ]
    },
    {
     "name": "stdout",
     "output_type": "stream",
     "text": [
      "Thresh=nan, n=74, Accuracy: 100.00%\n"
     ]
    },
    {
     "name": "stderr",
     "output_type": "stream",
     "text": [
      "/home/ricdeez/.virtualenvs/ml/lib/python3.7/site-packages/xgboost/sklearn.py:546: RuntimeWarning: invalid value encountered in true_divide\n",
      "  return all_features / all_features.sum()\n",
      "/home/ricdeez/.virtualenvs/ml/lib/python3.7/site-packages/sklearn/feature_selection/from_model.py:161: RuntimeWarning: invalid value encountered in less\n",
      "  mask[scores < threshold] = False\n",
      "/home/ricdeez/.virtualenvs/ml/lib/python3.7/site-packages/xgboost/sklearn.py:546: RuntimeWarning: invalid value encountered in true_divide\n",
      "  return all_features / all_features.sum()\n",
      "/home/ricdeez/.virtualenvs/ml/lib/python3.7/site-packages/sklearn/feature_selection/from_model.py:161: RuntimeWarning: invalid value encountered in less\n",
      "  mask[scores < threshold] = False\n"
     ]
    },
    {
     "name": "stdout",
     "output_type": "stream",
     "text": [
      "Thresh=nan, n=74, Accuracy: 100.00%\n"
     ]
    },
    {
     "name": "stderr",
     "output_type": "stream",
     "text": [
      "/home/ricdeez/.virtualenvs/ml/lib/python3.7/site-packages/xgboost/sklearn.py:546: RuntimeWarning: invalid value encountered in true_divide\n",
      "  return all_features / all_features.sum()\n",
      "/home/ricdeez/.virtualenvs/ml/lib/python3.7/site-packages/sklearn/feature_selection/from_model.py:161: RuntimeWarning: invalid value encountered in less\n",
      "  mask[scores < threshold] = False\n",
      "/home/ricdeez/.virtualenvs/ml/lib/python3.7/site-packages/xgboost/sklearn.py:546: RuntimeWarning: invalid value encountered in true_divide\n",
      "  return all_features / all_features.sum()\n",
      "/home/ricdeez/.virtualenvs/ml/lib/python3.7/site-packages/sklearn/feature_selection/from_model.py:161: RuntimeWarning: invalid value encountered in less\n",
      "  mask[scores < threshold] = False\n"
     ]
    },
    {
     "name": "stdout",
     "output_type": "stream",
     "text": [
      "Thresh=nan, n=74, Accuracy: 100.00%\n"
     ]
    },
    {
     "name": "stderr",
     "output_type": "stream",
     "text": [
      "/home/ricdeez/.virtualenvs/ml/lib/python3.7/site-packages/xgboost/sklearn.py:546: RuntimeWarning: invalid value encountered in true_divide\n",
      "  return all_features / all_features.sum()\n",
      "/home/ricdeez/.virtualenvs/ml/lib/python3.7/site-packages/sklearn/feature_selection/from_model.py:161: RuntimeWarning: invalid value encountered in less\n",
      "  mask[scores < threshold] = False\n",
      "/home/ricdeez/.virtualenvs/ml/lib/python3.7/site-packages/xgboost/sklearn.py:546: RuntimeWarning: invalid value encountered in true_divide\n",
      "  return all_features / all_features.sum()\n",
      "/home/ricdeez/.virtualenvs/ml/lib/python3.7/site-packages/sklearn/feature_selection/from_model.py:161: RuntimeWarning: invalid value encountered in less\n",
      "  mask[scores < threshold] = False\n"
     ]
    },
    {
     "name": "stdout",
     "output_type": "stream",
     "text": [
      "Thresh=nan, n=74, Accuracy: 100.00%\n"
     ]
    },
    {
     "name": "stderr",
     "output_type": "stream",
     "text": [
      "/home/ricdeez/.virtualenvs/ml/lib/python3.7/site-packages/xgboost/sklearn.py:546: RuntimeWarning: invalid value encountered in true_divide\n",
      "  return all_features / all_features.sum()\n",
      "/home/ricdeez/.virtualenvs/ml/lib/python3.7/site-packages/sklearn/feature_selection/from_model.py:161: RuntimeWarning: invalid value encountered in less\n",
      "  mask[scores < threshold] = False\n",
      "/home/ricdeez/.virtualenvs/ml/lib/python3.7/site-packages/xgboost/sklearn.py:546: RuntimeWarning: invalid value encountered in true_divide\n",
      "  return all_features / all_features.sum()\n",
      "/home/ricdeez/.virtualenvs/ml/lib/python3.7/site-packages/sklearn/feature_selection/from_model.py:161: RuntimeWarning: invalid value encountered in less\n",
      "  mask[scores < threshold] = False\n"
     ]
    },
    {
     "name": "stdout",
     "output_type": "stream",
     "text": [
      "Thresh=nan, n=74, Accuracy: 100.00%\n"
     ]
    },
    {
     "name": "stderr",
     "output_type": "stream",
     "text": [
      "/home/ricdeez/.virtualenvs/ml/lib/python3.7/site-packages/xgboost/sklearn.py:546: RuntimeWarning: invalid value encountered in true_divide\n",
      "  return all_features / all_features.sum()\n",
      "/home/ricdeez/.virtualenvs/ml/lib/python3.7/site-packages/sklearn/feature_selection/from_model.py:161: RuntimeWarning: invalid value encountered in less\n",
      "  mask[scores < threshold] = False\n",
      "/home/ricdeez/.virtualenvs/ml/lib/python3.7/site-packages/xgboost/sklearn.py:546: RuntimeWarning: invalid value encountered in true_divide\n",
      "  return all_features / all_features.sum()\n",
      "/home/ricdeez/.virtualenvs/ml/lib/python3.7/site-packages/sklearn/feature_selection/from_model.py:161: RuntimeWarning: invalid value encountered in less\n",
      "  mask[scores < threshold] = False\n"
     ]
    },
    {
     "name": "stdout",
     "output_type": "stream",
     "text": [
      "Thresh=nan, n=74, Accuracy: 100.00%\n"
     ]
    },
    {
     "name": "stderr",
     "output_type": "stream",
     "text": [
      "/home/ricdeez/.virtualenvs/ml/lib/python3.7/site-packages/xgboost/sklearn.py:546: RuntimeWarning: invalid value encountered in true_divide\n",
      "  return all_features / all_features.sum()\n",
      "/home/ricdeez/.virtualenvs/ml/lib/python3.7/site-packages/sklearn/feature_selection/from_model.py:161: RuntimeWarning: invalid value encountered in less\n",
      "  mask[scores < threshold] = False\n",
      "/home/ricdeez/.virtualenvs/ml/lib/python3.7/site-packages/xgboost/sklearn.py:546: RuntimeWarning: invalid value encountered in true_divide\n",
      "  return all_features / all_features.sum()\n",
      "/home/ricdeez/.virtualenvs/ml/lib/python3.7/site-packages/sklearn/feature_selection/from_model.py:161: RuntimeWarning: invalid value encountered in less\n",
      "  mask[scores < threshold] = False\n"
     ]
    },
    {
     "name": "stdout",
     "output_type": "stream",
     "text": [
      "Thresh=nan, n=74, Accuracy: 100.00%\n"
     ]
    },
    {
     "name": "stderr",
     "output_type": "stream",
     "text": [
      "/home/ricdeez/.virtualenvs/ml/lib/python3.7/site-packages/xgboost/sklearn.py:546: RuntimeWarning: invalid value encountered in true_divide\n",
      "  return all_features / all_features.sum()\n",
      "/home/ricdeez/.virtualenvs/ml/lib/python3.7/site-packages/sklearn/feature_selection/from_model.py:161: RuntimeWarning: invalid value encountered in less\n",
      "  mask[scores < threshold] = False\n",
      "/home/ricdeez/.virtualenvs/ml/lib/python3.7/site-packages/xgboost/sklearn.py:546: RuntimeWarning: invalid value encountered in true_divide\n",
      "  return all_features / all_features.sum()\n",
      "/home/ricdeez/.virtualenvs/ml/lib/python3.7/site-packages/sklearn/feature_selection/from_model.py:161: RuntimeWarning: invalid value encountered in less\n",
      "  mask[scores < threshold] = False\n"
     ]
    },
    {
     "name": "stdout",
     "output_type": "stream",
     "text": [
      "Thresh=nan, n=74, Accuracy: 100.00%\n"
     ]
    },
    {
     "name": "stderr",
     "output_type": "stream",
     "text": [
      "/home/ricdeez/.virtualenvs/ml/lib/python3.7/site-packages/xgboost/sklearn.py:546: RuntimeWarning: invalid value encountered in true_divide\n",
      "  return all_features / all_features.sum()\n",
      "/home/ricdeez/.virtualenvs/ml/lib/python3.7/site-packages/sklearn/feature_selection/from_model.py:161: RuntimeWarning: invalid value encountered in less\n",
      "  mask[scores < threshold] = False\n",
      "/home/ricdeez/.virtualenvs/ml/lib/python3.7/site-packages/xgboost/sklearn.py:546: RuntimeWarning: invalid value encountered in true_divide\n",
      "  return all_features / all_features.sum()\n",
      "/home/ricdeez/.virtualenvs/ml/lib/python3.7/site-packages/sklearn/feature_selection/from_model.py:161: RuntimeWarning: invalid value encountered in less\n",
      "  mask[scores < threshold] = False\n"
     ]
    },
    {
     "name": "stdout",
     "output_type": "stream",
     "text": [
      "Thresh=nan, n=74, Accuracy: 100.00%\n"
     ]
    },
    {
     "name": "stderr",
     "output_type": "stream",
     "text": [
      "/home/ricdeez/.virtualenvs/ml/lib/python3.7/site-packages/xgboost/sklearn.py:546: RuntimeWarning: invalid value encountered in true_divide\n",
      "  return all_features / all_features.sum()\n",
      "/home/ricdeez/.virtualenvs/ml/lib/python3.7/site-packages/sklearn/feature_selection/from_model.py:161: RuntimeWarning: invalid value encountered in less\n",
      "  mask[scores < threshold] = False\n",
      "/home/ricdeez/.virtualenvs/ml/lib/python3.7/site-packages/xgboost/sklearn.py:546: RuntimeWarning: invalid value encountered in true_divide\n",
      "  return all_features / all_features.sum()\n",
      "/home/ricdeez/.virtualenvs/ml/lib/python3.7/site-packages/sklearn/feature_selection/from_model.py:161: RuntimeWarning: invalid value encountered in less\n",
      "  mask[scores < threshold] = False\n"
     ]
    },
    {
     "name": "stdout",
     "output_type": "stream",
     "text": [
      "Thresh=nan, n=74, Accuracy: 100.00%\n"
     ]
    },
    {
     "name": "stderr",
     "output_type": "stream",
     "text": [
      "/home/ricdeez/.virtualenvs/ml/lib/python3.7/site-packages/xgboost/sklearn.py:546: RuntimeWarning: invalid value encountered in true_divide\n",
      "  return all_features / all_features.sum()\n",
      "/home/ricdeez/.virtualenvs/ml/lib/python3.7/site-packages/sklearn/feature_selection/from_model.py:161: RuntimeWarning: invalid value encountered in less\n",
      "  mask[scores < threshold] = False\n",
      "/home/ricdeez/.virtualenvs/ml/lib/python3.7/site-packages/xgboost/sklearn.py:546: RuntimeWarning: invalid value encountered in true_divide\n",
      "  return all_features / all_features.sum()\n",
      "/home/ricdeez/.virtualenvs/ml/lib/python3.7/site-packages/sklearn/feature_selection/from_model.py:161: RuntimeWarning: invalid value encountered in less\n",
      "  mask[scores < threshold] = False\n"
     ]
    },
    {
     "name": "stdout",
     "output_type": "stream",
     "text": [
      "Thresh=nan, n=74, Accuracy: 100.00%\n"
     ]
    },
    {
     "name": "stderr",
     "output_type": "stream",
     "text": [
      "/home/ricdeez/.virtualenvs/ml/lib/python3.7/site-packages/xgboost/sklearn.py:546: RuntimeWarning: invalid value encountered in true_divide\n",
      "  return all_features / all_features.sum()\n",
      "/home/ricdeez/.virtualenvs/ml/lib/python3.7/site-packages/sklearn/feature_selection/from_model.py:161: RuntimeWarning: invalid value encountered in less\n",
      "  mask[scores < threshold] = False\n",
      "/home/ricdeez/.virtualenvs/ml/lib/python3.7/site-packages/xgboost/sklearn.py:546: RuntimeWarning: invalid value encountered in true_divide\n",
      "  return all_features / all_features.sum()\n",
      "/home/ricdeez/.virtualenvs/ml/lib/python3.7/site-packages/sklearn/feature_selection/from_model.py:161: RuntimeWarning: invalid value encountered in less\n",
      "  mask[scores < threshold] = False\n"
     ]
    },
    {
     "name": "stdout",
     "output_type": "stream",
     "text": [
      "Thresh=nan, n=74, Accuracy: 100.00%\n"
     ]
    },
    {
     "name": "stderr",
     "output_type": "stream",
     "text": [
      "/home/ricdeez/.virtualenvs/ml/lib/python3.7/site-packages/xgboost/sklearn.py:546: RuntimeWarning: invalid value encountered in true_divide\n",
      "  return all_features / all_features.sum()\n",
      "/home/ricdeez/.virtualenvs/ml/lib/python3.7/site-packages/sklearn/feature_selection/from_model.py:161: RuntimeWarning: invalid value encountered in less\n",
      "  mask[scores < threshold] = False\n",
      "/home/ricdeez/.virtualenvs/ml/lib/python3.7/site-packages/xgboost/sklearn.py:546: RuntimeWarning: invalid value encountered in true_divide\n",
      "  return all_features / all_features.sum()\n",
      "/home/ricdeez/.virtualenvs/ml/lib/python3.7/site-packages/sklearn/feature_selection/from_model.py:161: RuntimeWarning: invalid value encountered in less\n",
      "  mask[scores < threshold] = False\n"
     ]
    },
    {
     "name": "stdout",
     "output_type": "stream",
     "text": [
      "Thresh=nan, n=74, Accuracy: 100.00%\n"
     ]
    },
    {
     "name": "stderr",
     "output_type": "stream",
     "text": [
      "/home/ricdeez/.virtualenvs/ml/lib/python3.7/site-packages/xgboost/sklearn.py:546: RuntimeWarning: invalid value encountered in true_divide\n",
      "  return all_features / all_features.sum()\n",
      "/home/ricdeez/.virtualenvs/ml/lib/python3.7/site-packages/sklearn/feature_selection/from_model.py:161: RuntimeWarning: invalid value encountered in less\n",
      "  mask[scores < threshold] = False\n",
      "/home/ricdeez/.virtualenvs/ml/lib/python3.7/site-packages/xgboost/sklearn.py:546: RuntimeWarning: invalid value encountered in true_divide\n",
      "  return all_features / all_features.sum()\n",
      "/home/ricdeez/.virtualenvs/ml/lib/python3.7/site-packages/sklearn/feature_selection/from_model.py:161: RuntimeWarning: invalid value encountered in less\n",
      "  mask[scores < threshold] = False\n"
     ]
    },
    {
     "name": "stdout",
     "output_type": "stream",
     "text": [
      "Thresh=nan, n=74, Accuracy: 100.00%\n"
     ]
    },
    {
     "name": "stderr",
     "output_type": "stream",
     "text": [
      "/home/ricdeez/.virtualenvs/ml/lib/python3.7/site-packages/xgboost/sklearn.py:546: RuntimeWarning: invalid value encountered in true_divide\n",
      "  return all_features / all_features.sum()\n",
      "/home/ricdeez/.virtualenvs/ml/lib/python3.7/site-packages/sklearn/feature_selection/from_model.py:161: RuntimeWarning: invalid value encountered in less\n",
      "  mask[scores < threshold] = False\n",
      "/home/ricdeez/.virtualenvs/ml/lib/python3.7/site-packages/xgboost/sklearn.py:546: RuntimeWarning: invalid value encountered in true_divide\n",
      "  return all_features / all_features.sum()\n",
      "/home/ricdeez/.virtualenvs/ml/lib/python3.7/site-packages/sklearn/feature_selection/from_model.py:161: RuntimeWarning: invalid value encountered in less\n",
      "  mask[scores < threshold] = False\n"
     ]
    },
    {
     "name": "stdout",
     "output_type": "stream",
     "text": [
      "Thresh=nan, n=74, Accuracy: 100.00%\n"
     ]
    },
    {
     "name": "stderr",
     "output_type": "stream",
     "text": [
      "/home/ricdeez/.virtualenvs/ml/lib/python3.7/site-packages/xgboost/sklearn.py:546: RuntimeWarning: invalid value encountered in true_divide\n",
      "  return all_features / all_features.sum()\n",
      "/home/ricdeez/.virtualenvs/ml/lib/python3.7/site-packages/sklearn/feature_selection/from_model.py:161: RuntimeWarning: invalid value encountered in less\n",
      "  mask[scores < threshold] = False\n",
      "/home/ricdeez/.virtualenvs/ml/lib/python3.7/site-packages/xgboost/sklearn.py:546: RuntimeWarning: invalid value encountered in true_divide\n",
      "  return all_features / all_features.sum()\n",
      "/home/ricdeez/.virtualenvs/ml/lib/python3.7/site-packages/sklearn/feature_selection/from_model.py:161: RuntimeWarning: invalid value encountered in less\n",
      "  mask[scores < threshold] = False\n"
     ]
    },
    {
     "name": "stdout",
     "output_type": "stream",
     "text": [
      "Thresh=nan, n=74, Accuracy: 100.00%\n"
     ]
    },
    {
     "name": "stderr",
     "output_type": "stream",
     "text": [
      "/home/ricdeez/.virtualenvs/ml/lib/python3.7/site-packages/xgboost/sklearn.py:546: RuntimeWarning: invalid value encountered in true_divide\n",
      "  return all_features / all_features.sum()\n",
      "/home/ricdeez/.virtualenvs/ml/lib/python3.7/site-packages/sklearn/feature_selection/from_model.py:161: RuntimeWarning: invalid value encountered in less\n",
      "  mask[scores < threshold] = False\n",
      "/home/ricdeez/.virtualenvs/ml/lib/python3.7/site-packages/xgboost/sklearn.py:546: RuntimeWarning: invalid value encountered in true_divide\n",
      "  return all_features / all_features.sum()\n",
      "/home/ricdeez/.virtualenvs/ml/lib/python3.7/site-packages/sklearn/feature_selection/from_model.py:161: RuntimeWarning: invalid value encountered in less\n",
      "  mask[scores < threshold] = False\n"
     ]
    },
    {
     "name": "stdout",
     "output_type": "stream",
     "text": [
      "Thresh=nan, n=74, Accuracy: 100.00%\n"
     ]
    },
    {
     "name": "stderr",
     "output_type": "stream",
     "text": [
      "/home/ricdeez/.virtualenvs/ml/lib/python3.7/site-packages/xgboost/sklearn.py:546: RuntimeWarning: invalid value encountered in true_divide\n",
      "  return all_features / all_features.sum()\n",
      "/home/ricdeez/.virtualenvs/ml/lib/python3.7/site-packages/sklearn/feature_selection/from_model.py:161: RuntimeWarning: invalid value encountered in less\n",
      "  mask[scores < threshold] = False\n",
      "/home/ricdeez/.virtualenvs/ml/lib/python3.7/site-packages/xgboost/sklearn.py:546: RuntimeWarning: invalid value encountered in true_divide\n",
      "  return all_features / all_features.sum()\n",
      "/home/ricdeez/.virtualenvs/ml/lib/python3.7/site-packages/sklearn/feature_selection/from_model.py:161: RuntimeWarning: invalid value encountered in less\n",
      "  mask[scores < threshold] = False\n"
     ]
    },
    {
     "name": "stdout",
     "output_type": "stream",
     "text": [
      "Thresh=nan, n=74, Accuracy: 100.00%\n"
     ]
    },
    {
     "name": "stderr",
     "output_type": "stream",
     "text": [
      "/home/ricdeez/.virtualenvs/ml/lib/python3.7/site-packages/xgboost/sklearn.py:546: RuntimeWarning: invalid value encountered in true_divide\n",
      "  return all_features / all_features.sum()\n",
      "/home/ricdeez/.virtualenvs/ml/lib/python3.7/site-packages/sklearn/feature_selection/from_model.py:161: RuntimeWarning: invalid value encountered in less\n",
      "  mask[scores < threshold] = False\n",
      "/home/ricdeez/.virtualenvs/ml/lib/python3.7/site-packages/xgboost/sklearn.py:546: RuntimeWarning: invalid value encountered in true_divide\n",
      "  return all_features / all_features.sum()\n",
      "/home/ricdeez/.virtualenvs/ml/lib/python3.7/site-packages/sklearn/feature_selection/from_model.py:161: RuntimeWarning: invalid value encountered in less\n",
      "  mask[scores < threshold] = False\n"
     ]
    },
    {
     "name": "stdout",
     "output_type": "stream",
     "text": [
      "Thresh=nan, n=74, Accuracy: 100.00%\n"
     ]
    },
    {
     "name": "stderr",
     "output_type": "stream",
     "text": [
      "/home/ricdeez/.virtualenvs/ml/lib/python3.7/site-packages/xgboost/sklearn.py:546: RuntimeWarning: invalid value encountered in true_divide\n",
      "  return all_features / all_features.sum()\n",
      "/home/ricdeez/.virtualenvs/ml/lib/python3.7/site-packages/sklearn/feature_selection/from_model.py:161: RuntimeWarning: invalid value encountered in less\n",
      "  mask[scores < threshold] = False\n",
      "/home/ricdeez/.virtualenvs/ml/lib/python3.7/site-packages/xgboost/sklearn.py:546: RuntimeWarning: invalid value encountered in true_divide\n",
      "  return all_features / all_features.sum()\n",
      "/home/ricdeez/.virtualenvs/ml/lib/python3.7/site-packages/sklearn/feature_selection/from_model.py:161: RuntimeWarning: invalid value encountered in less\n",
      "  mask[scores < threshold] = False\n"
     ]
    },
    {
     "name": "stdout",
     "output_type": "stream",
     "text": [
      "Thresh=nan, n=74, Accuracy: 100.00%\n"
     ]
    },
    {
     "name": "stderr",
     "output_type": "stream",
     "text": [
      "/home/ricdeez/.virtualenvs/ml/lib/python3.7/site-packages/xgboost/sklearn.py:546: RuntimeWarning: invalid value encountered in true_divide\n",
      "  return all_features / all_features.sum()\n",
      "/home/ricdeez/.virtualenvs/ml/lib/python3.7/site-packages/sklearn/feature_selection/from_model.py:161: RuntimeWarning: invalid value encountered in less\n",
      "  mask[scores < threshold] = False\n",
      "/home/ricdeez/.virtualenvs/ml/lib/python3.7/site-packages/xgboost/sklearn.py:546: RuntimeWarning: invalid value encountered in true_divide\n",
      "  return all_features / all_features.sum()\n",
      "/home/ricdeez/.virtualenvs/ml/lib/python3.7/site-packages/sklearn/feature_selection/from_model.py:161: RuntimeWarning: invalid value encountered in less\n",
      "  mask[scores < threshold] = False\n"
     ]
    },
    {
     "name": "stdout",
     "output_type": "stream",
     "text": [
      "Thresh=nan, n=74, Accuracy: 100.00%\n"
     ]
    },
    {
     "name": "stderr",
     "output_type": "stream",
     "text": [
      "/home/ricdeez/.virtualenvs/ml/lib/python3.7/site-packages/xgboost/sklearn.py:546: RuntimeWarning: invalid value encountered in true_divide\n",
      "  return all_features / all_features.sum()\n",
      "/home/ricdeez/.virtualenvs/ml/lib/python3.7/site-packages/sklearn/feature_selection/from_model.py:161: RuntimeWarning: invalid value encountered in less\n",
      "  mask[scores < threshold] = False\n",
      "/home/ricdeez/.virtualenvs/ml/lib/python3.7/site-packages/xgboost/sklearn.py:546: RuntimeWarning: invalid value encountered in true_divide\n",
      "  return all_features / all_features.sum()\n",
      "/home/ricdeez/.virtualenvs/ml/lib/python3.7/site-packages/sklearn/feature_selection/from_model.py:161: RuntimeWarning: invalid value encountered in less\n",
      "  mask[scores < threshold] = False\n"
     ]
    },
    {
     "name": "stdout",
     "output_type": "stream",
     "text": [
      "Thresh=nan, n=74, Accuracy: 100.00%\n"
     ]
    },
    {
     "name": "stderr",
     "output_type": "stream",
     "text": [
      "/home/ricdeez/.virtualenvs/ml/lib/python3.7/site-packages/xgboost/sklearn.py:546: RuntimeWarning: invalid value encountered in true_divide\n",
      "  return all_features / all_features.sum()\n",
      "/home/ricdeez/.virtualenvs/ml/lib/python3.7/site-packages/sklearn/feature_selection/from_model.py:161: RuntimeWarning: invalid value encountered in less\n",
      "  mask[scores < threshold] = False\n",
      "/home/ricdeez/.virtualenvs/ml/lib/python3.7/site-packages/xgboost/sklearn.py:546: RuntimeWarning: invalid value encountered in true_divide\n",
      "  return all_features / all_features.sum()\n",
      "/home/ricdeez/.virtualenvs/ml/lib/python3.7/site-packages/sklearn/feature_selection/from_model.py:161: RuntimeWarning: invalid value encountered in less\n",
      "  mask[scores < threshold] = False\n"
     ]
    },
    {
     "name": "stdout",
     "output_type": "stream",
     "text": [
      "Thresh=nan, n=74, Accuracy: 100.00%\n"
     ]
    },
    {
     "name": "stderr",
     "output_type": "stream",
     "text": [
      "/home/ricdeez/.virtualenvs/ml/lib/python3.7/site-packages/xgboost/sklearn.py:546: RuntimeWarning: invalid value encountered in true_divide\n",
      "  return all_features / all_features.sum()\n",
      "/home/ricdeez/.virtualenvs/ml/lib/python3.7/site-packages/sklearn/feature_selection/from_model.py:161: RuntimeWarning: invalid value encountered in less\n",
      "  mask[scores < threshold] = False\n",
      "/home/ricdeez/.virtualenvs/ml/lib/python3.7/site-packages/xgboost/sklearn.py:546: RuntimeWarning: invalid value encountered in true_divide\n",
      "  return all_features / all_features.sum()\n",
      "/home/ricdeez/.virtualenvs/ml/lib/python3.7/site-packages/sklearn/feature_selection/from_model.py:161: RuntimeWarning: invalid value encountered in less\n",
      "  mask[scores < threshold] = False\n"
     ]
    },
    {
     "name": "stdout",
     "output_type": "stream",
     "text": [
      "Thresh=nan, n=74, Accuracy: 100.00%\n"
     ]
    },
    {
     "name": "stderr",
     "output_type": "stream",
     "text": [
      "/home/ricdeez/.virtualenvs/ml/lib/python3.7/site-packages/xgboost/sklearn.py:546: RuntimeWarning: invalid value encountered in true_divide\n",
      "  return all_features / all_features.sum()\n",
      "/home/ricdeez/.virtualenvs/ml/lib/python3.7/site-packages/sklearn/feature_selection/from_model.py:161: RuntimeWarning: invalid value encountered in less\n",
      "  mask[scores < threshold] = False\n",
      "/home/ricdeez/.virtualenvs/ml/lib/python3.7/site-packages/xgboost/sklearn.py:546: RuntimeWarning: invalid value encountered in true_divide\n",
      "  return all_features / all_features.sum()\n",
      "/home/ricdeez/.virtualenvs/ml/lib/python3.7/site-packages/sklearn/feature_selection/from_model.py:161: RuntimeWarning: invalid value encountered in less\n",
      "  mask[scores < threshold] = False\n"
     ]
    },
    {
     "name": "stdout",
     "output_type": "stream",
     "text": [
      "Thresh=nan, n=74, Accuracy: 100.00%\n"
     ]
    },
    {
     "name": "stderr",
     "output_type": "stream",
     "text": [
      "/home/ricdeez/.virtualenvs/ml/lib/python3.7/site-packages/xgboost/sklearn.py:546: RuntimeWarning: invalid value encountered in true_divide\n",
      "  return all_features / all_features.sum()\n",
      "/home/ricdeez/.virtualenvs/ml/lib/python3.7/site-packages/sklearn/feature_selection/from_model.py:161: RuntimeWarning: invalid value encountered in less\n",
      "  mask[scores < threshold] = False\n",
      "/home/ricdeez/.virtualenvs/ml/lib/python3.7/site-packages/xgboost/sklearn.py:546: RuntimeWarning: invalid value encountered in true_divide\n",
      "  return all_features / all_features.sum()\n",
      "/home/ricdeez/.virtualenvs/ml/lib/python3.7/site-packages/sklearn/feature_selection/from_model.py:161: RuntimeWarning: invalid value encountered in less\n",
      "  mask[scores < threshold] = False\n"
     ]
    },
    {
     "name": "stdout",
     "output_type": "stream",
     "text": [
      "Thresh=nan, n=74, Accuracy: 100.00%\n"
     ]
    },
    {
     "name": "stderr",
     "output_type": "stream",
     "text": [
      "/home/ricdeez/.virtualenvs/ml/lib/python3.7/site-packages/xgboost/sklearn.py:546: RuntimeWarning: invalid value encountered in true_divide\n",
      "  return all_features / all_features.sum()\n",
      "/home/ricdeez/.virtualenvs/ml/lib/python3.7/site-packages/sklearn/feature_selection/from_model.py:161: RuntimeWarning: invalid value encountered in less\n",
      "  mask[scores < threshold] = False\n",
      "/home/ricdeez/.virtualenvs/ml/lib/python3.7/site-packages/xgboost/sklearn.py:546: RuntimeWarning: invalid value encountered in true_divide\n",
      "  return all_features / all_features.sum()\n",
      "/home/ricdeez/.virtualenvs/ml/lib/python3.7/site-packages/sklearn/feature_selection/from_model.py:161: RuntimeWarning: invalid value encountered in less\n",
      "  mask[scores < threshold] = False\n"
     ]
    },
    {
     "name": "stdout",
     "output_type": "stream",
     "text": [
      "Thresh=nan, n=74, Accuracy: 100.00%\n"
     ]
    },
    {
     "name": "stderr",
     "output_type": "stream",
     "text": [
      "/home/ricdeez/.virtualenvs/ml/lib/python3.7/site-packages/xgboost/sklearn.py:546: RuntimeWarning: invalid value encountered in true_divide\n",
      "  return all_features / all_features.sum()\n",
      "/home/ricdeez/.virtualenvs/ml/lib/python3.7/site-packages/sklearn/feature_selection/from_model.py:161: RuntimeWarning: invalid value encountered in less\n",
      "  mask[scores < threshold] = False\n",
      "/home/ricdeez/.virtualenvs/ml/lib/python3.7/site-packages/xgboost/sklearn.py:546: RuntimeWarning: invalid value encountered in true_divide\n",
      "  return all_features / all_features.sum()\n",
      "/home/ricdeez/.virtualenvs/ml/lib/python3.7/site-packages/sklearn/feature_selection/from_model.py:161: RuntimeWarning: invalid value encountered in less\n",
      "  mask[scores < threshold] = False\n"
     ]
    },
    {
     "name": "stdout",
     "output_type": "stream",
     "text": [
      "Thresh=nan, n=74, Accuracy: 100.00%\n"
     ]
    },
    {
     "name": "stderr",
     "output_type": "stream",
     "text": [
      "/home/ricdeez/.virtualenvs/ml/lib/python3.7/site-packages/xgboost/sklearn.py:546: RuntimeWarning: invalid value encountered in true_divide\n",
      "  return all_features / all_features.sum()\n",
      "/home/ricdeez/.virtualenvs/ml/lib/python3.7/site-packages/sklearn/feature_selection/from_model.py:161: RuntimeWarning: invalid value encountered in less\n",
      "  mask[scores < threshold] = False\n",
      "/home/ricdeez/.virtualenvs/ml/lib/python3.7/site-packages/xgboost/sklearn.py:546: RuntimeWarning: invalid value encountered in true_divide\n",
      "  return all_features / all_features.sum()\n",
      "/home/ricdeez/.virtualenvs/ml/lib/python3.7/site-packages/sklearn/feature_selection/from_model.py:161: RuntimeWarning: invalid value encountered in less\n",
      "  mask[scores < threshold] = False\n"
     ]
    },
    {
     "name": "stdout",
     "output_type": "stream",
     "text": [
      "Thresh=nan, n=74, Accuracy: 100.00%\n"
     ]
    },
    {
     "name": "stderr",
     "output_type": "stream",
     "text": [
      "/home/ricdeez/.virtualenvs/ml/lib/python3.7/site-packages/xgboost/sklearn.py:546: RuntimeWarning: invalid value encountered in true_divide\n",
      "  return all_features / all_features.sum()\n",
      "/home/ricdeez/.virtualenvs/ml/lib/python3.7/site-packages/sklearn/feature_selection/from_model.py:161: RuntimeWarning: invalid value encountered in less\n",
      "  mask[scores < threshold] = False\n",
      "/home/ricdeez/.virtualenvs/ml/lib/python3.7/site-packages/xgboost/sklearn.py:546: RuntimeWarning: invalid value encountered in true_divide\n",
      "  return all_features / all_features.sum()\n",
      "/home/ricdeez/.virtualenvs/ml/lib/python3.7/site-packages/sklearn/feature_selection/from_model.py:161: RuntimeWarning: invalid value encountered in less\n",
      "  mask[scores < threshold] = False\n"
     ]
    },
    {
     "name": "stdout",
     "output_type": "stream",
     "text": [
      "Thresh=nan, n=74, Accuracy: 100.00%\n"
     ]
    },
    {
     "name": "stderr",
     "output_type": "stream",
     "text": [
      "/home/ricdeez/.virtualenvs/ml/lib/python3.7/site-packages/xgboost/sklearn.py:546: RuntimeWarning: invalid value encountered in true_divide\n",
      "  return all_features / all_features.sum()\n",
      "/home/ricdeez/.virtualenvs/ml/lib/python3.7/site-packages/sklearn/feature_selection/from_model.py:161: RuntimeWarning: invalid value encountered in less\n",
      "  mask[scores < threshold] = False\n",
      "/home/ricdeez/.virtualenvs/ml/lib/python3.7/site-packages/xgboost/sklearn.py:546: RuntimeWarning: invalid value encountered in true_divide\n",
      "  return all_features / all_features.sum()\n",
      "/home/ricdeez/.virtualenvs/ml/lib/python3.7/site-packages/sklearn/feature_selection/from_model.py:161: RuntimeWarning: invalid value encountered in less\n",
      "  mask[scores < threshold] = False\n"
     ]
    },
    {
     "name": "stdout",
     "output_type": "stream",
     "text": [
      "Thresh=nan, n=74, Accuracy: 100.00%\n"
     ]
    },
    {
     "name": "stderr",
     "output_type": "stream",
     "text": [
      "/home/ricdeez/.virtualenvs/ml/lib/python3.7/site-packages/xgboost/sklearn.py:546: RuntimeWarning: invalid value encountered in true_divide\n",
      "  return all_features / all_features.sum()\n",
      "/home/ricdeez/.virtualenvs/ml/lib/python3.7/site-packages/sklearn/feature_selection/from_model.py:161: RuntimeWarning: invalid value encountered in less\n",
      "  mask[scores < threshold] = False\n",
      "/home/ricdeez/.virtualenvs/ml/lib/python3.7/site-packages/xgboost/sklearn.py:546: RuntimeWarning: invalid value encountered in true_divide\n",
      "  return all_features / all_features.sum()\n",
      "/home/ricdeez/.virtualenvs/ml/lib/python3.7/site-packages/sklearn/feature_selection/from_model.py:161: RuntimeWarning: invalid value encountered in less\n",
      "  mask[scores < threshold] = False\n"
     ]
    },
    {
     "name": "stdout",
     "output_type": "stream",
     "text": [
      "Thresh=nan, n=74, Accuracy: 100.00%\n"
     ]
    },
    {
     "name": "stderr",
     "output_type": "stream",
     "text": [
      "/home/ricdeez/.virtualenvs/ml/lib/python3.7/site-packages/xgboost/sklearn.py:546: RuntimeWarning: invalid value encountered in true_divide\n",
      "  return all_features / all_features.sum()\n",
      "/home/ricdeez/.virtualenvs/ml/lib/python3.7/site-packages/sklearn/feature_selection/from_model.py:161: RuntimeWarning: invalid value encountered in less\n",
      "  mask[scores < threshold] = False\n",
      "/home/ricdeez/.virtualenvs/ml/lib/python3.7/site-packages/xgboost/sklearn.py:546: RuntimeWarning: invalid value encountered in true_divide\n",
      "  return all_features / all_features.sum()\n",
      "/home/ricdeez/.virtualenvs/ml/lib/python3.7/site-packages/sklearn/feature_selection/from_model.py:161: RuntimeWarning: invalid value encountered in less\n",
      "  mask[scores < threshold] = False\n"
     ]
    },
    {
     "name": "stdout",
     "output_type": "stream",
     "text": [
      "Thresh=nan, n=74, Accuracy: 100.00%\n"
     ]
    },
    {
     "name": "stderr",
     "output_type": "stream",
     "text": [
      "/home/ricdeez/.virtualenvs/ml/lib/python3.7/site-packages/xgboost/sklearn.py:546: RuntimeWarning: invalid value encountered in true_divide\n",
      "  return all_features / all_features.sum()\n",
      "/home/ricdeez/.virtualenvs/ml/lib/python3.7/site-packages/sklearn/feature_selection/from_model.py:161: RuntimeWarning: invalid value encountered in less\n",
      "  mask[scores < threshold] = False\n",
      "/home/ricdeez/.virtualenvs/ml/lib/python3.7/site-packages/xgboost/sklearn.py:546: RuntimeWarning: invalid value encountered in true_divide\n",
      "  return all_features / all_features.sum()\n",
      "/home/ricdeez/.virtualenvs/ml/lib/python3.7/site-packages/sklearn/feature_selection/from_model.py:161: RuntimeWarning: invalid value encountered in less\n",
      "  mask[scores < threshold] = False\n"
     ]
    },
    {
     "name": "stdout",
     "output_type": "stream",
     "text": [
      "Thresh=nan, n=74, Accuracy: 100.00%\n"
     ]
    },
    {
     "name": "stderr",
     "output_type": "stream",
     "text": [
      "/home/ricdeez/.virtualenvs/ml/lib/python3.7/site-packages/xgboost/sklearn.py:546: RuntimeWarning: invalid value encountered in true_divide\n",
      "  return all_features / all_features.sum()\n",
      "/home/ricdeez/.virtualenvs/ml/lib/python3.7/site-packages/sklearn/feature_selection/from_model.py:161: RuntimeWarning: invalid value encountered in less\n",
      "  mask[scores < threshold] = False\n",
      "/home/ricdeez/.virtualenvs/ml/lib/python3.7/site-packages/xgboost/sklearn.py:546: RuntimeWarning: invalid value encountered in true_divide\n",
      "  return all_features / all_features.sum()\n",
      "/home/ricdeez/.virtualenvs/ml/lib/python3.7/site-packages/sklearn/feature_selection/from_model.py:161: RuntimeWarning: invalid value encountered in less\n",
      "  mask[scores < threshold] = False\n"
     ]
    },
    {
     "name": "stdout",
     "output_type": "stream",
     "text": [
      "Thresh=nan, n=74, Accuracy: 100.00%\n"
     ]
    },
    {
     "name": "stderr",
     "output_type": "stream",
     "text": [
      "/home/ricdeez/.virtualenvs/ml/lib/python3.7/site-packages/xgboost/sklearn.py:546: RuntimeWarning: invalid value encountered in true_divide\n",
      "  return all_features / all_features.sum()\n",
      "/home/ricdeez/.virtualenvs/ml/lib/python3.7/site-packages/sklearn/feature_selection/from_model.py:161: RuntimeWarning: invalid value encountered in less\n",
      "  mask[scores < threshold] = False\n",
      "/home/ricdeez/.virtualenvs/ml/lib/python3.7/site-packages/xgboost/sklearn.py:546: RuntimeWarning: invalid value encountered in true_divide\n",
      "  return all_features / all_features.sum()\n",
      "/home/ricdeez/.virtualenvs/ml/lib/python3.7/site-packages/sklearn/feature_selection/from_model.py:161: RuntimeWarning: invalid value encountered in less\n",
      "  mask[scores < threshold] = False\n"
     ]
    },
    {
     "name": "stdout",
     "output_type": "stream",
     "text": [
      "Thresh=nan, n=74, Accuracy: 100.00%\n"
     ]
    },
    {
     "name": "stderr",
     "output_type": "stream",
     "text": [
      "/home/ricdeez/.virtualenvs/ml/lib/python3.7/site-packages/xgboost/sklearn.py:546: RuntimeWarning: invalid value encountered in true_divide\n",
      "  return all_features / all_features.sum()\n",
      "/home/ricdeez/.virtualenvs/ml/lib/python3.7/site-packages/sklearn/feature_selection/from_model.py:161: RuntimeWarning: invalid value encountered in less\n",
      "  mask[scores < threshold] = False\n",
      "/home/ricdeez/.virtualenvs/ml/lib/python3.7/site-packages/xgboost/sklearn.py:546: RuntimeWarning: invalid value encountered in true_divide\n",
      "  return all_features / all_features.sum()\n",
      "/home/ricdeez/.virtualenvs/ml/lib/python3.7/site-packages/sklearn/feature_selection/from_model.py:161: RuntimeWarning: invalid value encountered in less\n",
      "  mask[scores < threshold] = False\n"
     ]
    },
    {
     "name": "stdout",
     "output_type": "stream",
     "text": [
      "Thresh=nan, n=74, Accuracy: 100.00%\n"
     ]
    },
    {
     "name": "stderr",
     "output_type": "stream",
     "text": [
      "/home/ricdeez/.virtualenvs/ml/lib/python3.7/site-packages/xgboost/sklearn.py:546: RuntimeWarning: invalid value encountered in true_divide\n",
      "  return all_features / all_features.sum()\n",
      "/home/ricdeez/.virtualenvs/ml/lib/python3.7/site-packages/sklearn/feature_selection/from_model.py:161: RuntimeWarning: invalid value encountered in less\n",
      "  mask[scores < threshold] = False\n",
      "/home/ricdeez/.virtualenvs/ml/lib/python3.7/site-packages/xgboost/sklearn.py:546: RuntimeWarning: invalid value encountered in true_divide\n",
      "  return all_features / all_features.sum()\n",
      "/home/ricdeez/.virtualenvs/ml/lib/python3.7/site-packages/sklearn/feature_selection/from_model.py:161: RuntimeWarning: invalid value encountered in less\n",
      "  mask[scores < threshold] = False\n"
     ]
    },
    {
     "name": "stdout",
     "output_type": "stream",
     "text": [
      "Thresh=nan, n=74, Accuracy: 100.00%\n"
     ]
    },
    {
     "name": "stderr",
     "output_type": "stream",
     "text": [
      "/home/ricdeez/.virtualenvs/ml/lib/python3.7/site-packages/xgboost/sklearn.py:546: RuntimeWarning: invalid value encountered in true_divide\n",
      "  return all_features / all_features.sum()\n",
      "/home/ricdeez/.virtualenvs/ml/lib/python3.7/site-packages/sklearn/feature_selection/from_model.py:161: RuntimeWarning: invalid value encountered in less\n",
      "  mask[scores < threshold] = False\n",
      "/home/ricdeez/.virtualenvs/ml/lib/python3.7/site-packages/xgboost/sklearn.py:546: RuntimeWarning: invalid value encountered in true_divide\n",
      "  return all_features / all_features.sum()\n",
      "/home/ricdeez/.virtualenvs/ml/lib/python3.7/site-packages/sklearn/feature_selection/from_model.py:161: RuntimeWarning: invalid value encountered in less\n",
      "  mask[scores < threshold] = False\n"
     ]
    },
    {
     "name": "stdout",
     "output_type": "stream",
     "text": [
      "Thresh=nan, n=74, Accuracy: 100.00%\n"
     ]
    },
    {
     "name": "stderr",
     "output_type": "stream",
     "text": [
      "/home/ricdeez/.virtualenvs/ml/lib/python3.7/site-packages/xgboost/sklearn.py:546: RuntimeWarning: invalid value encountered in true_divide\n",
      "  return all_features / all_features.sum()\n",
      "/home/ricdeez/.virtualenvs/ml/lib/python3.7/site-packages/sklearn/feature_selection/from_model.py:161: RuntimeWarning: invalid value encountered in less\n",
      "  mask[scores < threshold] = False\n",
      "/home/ricdeez/.virtualenvs/ml/lib/python3.7/site-packages/xgboost/sklearn.py:546: RuntimeWarning: invalid value encountered in true_divide\n",
      "  return all_features / all_features.sum()\n",
      "/home/ricdeez/.virtualenvs/ml/lib/python3.7/site-packages/sklearn/feature_selection/from_model.py:161: RuntimeWarning: invalid value encountered in less\n",
      "  mask[scores < threshold] = False\n"
     ]
    },
    {
     "name": "stdout",
     "output_type": "stream",
     "text": [
      "Thresh=nan, n=74, Accuracy: 100.00%\n"
     ]
    },
    {
     "name": "stderr",
     "output_type": "stream",
     "text": [
      "/home/ricdeez/.virtualenvs/ml/lib/python3.7/site-packages/xgboost/sklearn.py:546: RuntimeWarning: invalid value encountered in true_divide\n",
      "  return all_features / all_features.sum()\n",
      "/home/ricdeez/.virtualenvs/ml/lib/python3.7/site-packages/sklearn/feature_selection/from_model.py:161: RuntimeWarning: invalid value encountered in less\n",
      "  mask[scores < threshold] = False\n",
      "/home/ricdeez/.virtualenvs/ml/lib/python3.7/site-packages/xgboost/sklearn.py:546: RuntimeWarning: invalid value encountered in true_divide\n",
      "  return all_features / all_features.sum()\n",
      "/home/ricdeez/.virtualenvs/ml/lib/python3.7/site-packages/sklearn/feature_selection/from_model.py:161: RuntimeWarning: invalid value encountered in less\n",
      "  mask[scores < threshold] = False\n"
     ]
    },
    {
     "name": "stdout",
     "output_type": "stream",
     "text": [
      "Thresh=nan, n=74, Accuracy: 100.00%\n"
     ]
    },
    {
     "name": "stderr",
     "output_type": "stream",
     "text": [
      "/home/ricdeez/.virtualenvs/ml/lib/python3.7/site-packages/xgboost/sklearn.py:546: RuntimeWarning: invalid value encountered in true_divide\n",
      "  return all_features / all_features.sum()\n",
      "/home/ricdeez/.virtualenvs/ml/lib/python3.7/site-packages/sklearn/feature_selection/from_model.py:161: RuntimeWarning: invalid value encountered in less\n",
      "  mask[scores < threshold] = False\n",
      "/home/ricdeez/.virtualenvs/ml/lib/python3.7/site-packages/xgboost/sklearn.py:546: RuntimeWarning: invalid value encountered in true_divide\n",
      "  return all_features / all_features.sum()\n",
      "/home/ricdeez/.virtualenvs/ml/lib/python3.7/site-packages/sklearn/feature_selection/from_model.py:161: RuntimeWarning: invalid value encountered in less\n",
      "  mask[scores < threshold] = False\n"
     ]
    },
    {
     "name": "stdout",
     "output_type": "stream",
     "text": [
      "Thresh=nan, n=74, Accuracy: 100.00%\n"
     ]
    },
    {
     "name": "stderr",
     "output_type": "stream",
     "text": [
      "/home/ricdeez/.virtualenvs/ml/lib/python3.7/site-packages/xgboost/sklearn.py:546: RuntimeWarning: invalid value encountered in true_divide\n",
      "  return all_features / all_features.sum()\n",
      "/home/ricdeez/.virtualenvs/ml/lib/python3.7/site-packages/sklearn/feature_selection/from_model.py:161: RuntimeWarning: invalid value encountered in less\n",
      "  mask[scores < threshold] = False\n",
      "/home/ricdeez/.virtualenvs/ml/lib/python3.7/site-packages/xgboost/sklearn.py:546: RuntimeWarning: invalid value encountered in true_divide\n",
      "  return all_features / all_features.sum()\n",
      "/home/ricdeez/.virtualenvs/ml/lib/python3.7/site-packages/sklearn/feature_selection/from_model.py:161: RuntimeWarning: invalid value encountered in less\n",
      "  mask[scores < threshold] = False\n"
     ]
    },
    {
     "name": "stdout",
     "output_type": "stream",
     "text": [
      "Thresh=nan, n=74, Accuracy: 100.00%\n"
     ]
    },
    {
     "name": "stderr",
     "output_type": "stream",
     "text": [
      "/home/ricdeez/.virtualenvs/ml/lib/python3.7/site-packages/xgboost/sklearn.py:546: RuntimeWarning: invalid value encountered in true_divide\n",
      "  return all_features / all_features.sum()\n",
      "/home/ricdeez/.virtualenvs/ml/lib/python3.7/site-packages/sklearn/feature_selection/from_model.py:161: RuntimeWarning: invalid value encountered in less\n",
      "  mask[scores < threshold] = False\n",
      "/home/ricdeez/.virtualenvs/ml/lib/python3.7/site-packages/xgboost/sklearn.py:546: RuntimeWarning: invalid value encountered in true_divide\n",
      "  return all_features / all_features.sum()\n",
      "/home/ricdeez/.virtualenvs/ml/lib/python3.7/site-packages/sklearn/feature_selection/from_model.py:161: RuntimeWarning: invalid value encountered in less\n",
      "  mask[scores < threshold] = False\n"
     ]
    },
    {
     "name": "stdout",
     "output_type": "stream",
     "text": [
      "Thresh=nan, n=74, Accuracy: 100.00%\n"
     ]
    },
    {
     "name": "stderr",
     "output_type": "stream",
     "text": [
      "/home/ricdeez/.virtualenvs/ml/lib/python3.7/site-packages/xgboost/sklearn.py:546: RuntimeWarning: invalid value encountered in true_divide\n",
      "  return all_features / all_features.sum()\n",
      "/home/ricdeez/.virtualenvs/ml/lib/python3.7/site-packages/sklearn/feature_selection/from_model.py:161: RuntimeWarning: invalid value encountered in less\n",
      "  mask[scores < threshold] = False\n",
      "/home/ricdeez/.virtualenvs/ml/lib/python3.7/site-packages/xgboost/sklearn.py:546: RuntimeWarning: invalid value encountered in true_divide\n",
      "  return all_features / all_features.sum()\n",
      "/home/ricdeez/.virtualenvs/ml/lib/python3.7/site-packages/sklearn/feature_selection/from_model.py:161: RuntimeWarning: invalid value encountered in less\n",
      "  mask[scores < threshold] = False\n"
     ]
    },
    {
     "name": "stdout",
     "output_type": "stream",
     "text": [
      "Thresh=nan, n=74, Accuracy: 100.00%\n"
     ]
    },
    {
     "name": "stderr",
     "output_type": "stream",
     "text": [
      "/home/ricdeez/.virtualenvs/ml/lib/python3.7/site-packages/xgboost/sklearn.py:546: RuntimeWarning: invalid value encountered in true_divide\n",
      "  return all_features / all_features.sum()\n",
      "/home/ricdeez/.virtualenvs/ml/lib/python3.7/site-packages/sklearn/feature_selection/from_model.py:161: RuntimeWarning: invalid value encountered in less\n",
      "  mask[scores < threshold] = False\n",
      "/home/ricdeez/.virtualenvs/ml/lib/python3.7/site-packages/xgboost/sklearn.py:546: RuntimeWarning: invalid value encountered in true_divide\n",
      "  return all_features / all_features.sum()\n",
      "/home/ricdeez/.virtualenvs/ml/lib/python3.7/site-packages/sklearn/feature_selection/from_model.py:161: RuntimeWarning: invalid value encountered in less\n",
      "  mask[scores < threshold] = False\n"
     ]
    },
    {
     "name": "stdout",
     "output_type": "stream",
     "text": [
      "Thresh=nan, n=74, Accuracy: 100.00%\n"
     ]
    },
    {
     "name": "stderr",
     "output_type": "stream",
     "text": [
      "/home/ricdeez/.virtualenvs/ml/lib/python3.7/site-packages/xgboost/sklearn.py:546: RuntimeWarning: invalid value encountered in true_divide\n",
      "  return all_features / all_features.sum()\n",
      "/home/ricdeez/.virtualenvs/ml/lib/python3.7/site-packages/sklearn/feature_selection/from_model.py:161: RuntimeWarning: invalid value encountered in less\n",
      "  mask[scores < threshold] = False\n",
      "/home/ricdeez/.virtualenvs/ml/lib/python3.7/site-packages/xgboost/sklearn.py:546: RuntimeWarning: invalid value encountered in true_divide\n",
      "  return all_features / all_features.sum()\n",
      "/home/ricdeez/.virtualenvs/ml/lib/python3.7/site-packages/sklearn/feature_selection/from_model.py:161: RuntimeWarning: invalid value encountered in less\n",
      "  mask[scores < threshold] = False\n"
     ]
    },
    {
     "name": "stdout",
     "output_type": "stream",
     "text": [
      "Thresh=nan, n=74, Accuracy: 100.00%\n"
     ]
    },
    {
     "name": "stderr",
     "output_type": "stream",
     "text": [
      "/home/ricdeez/.virtualenvs/ml/lib/python3.7/site-packages/xgboost/sklearn.py:546: RuntimeWarning: invalid value encountered in true_divide\n",
      "  return all_features / all_features.sum()\n",
      "/home/ricdeez/.virtualenvs/ml/lib/python3.7/site-packages/sklearn/feature_selection/from_model.py:161: RuntimeWarning: invalid value encountered in less\n",
      "  mask[scores < threshold] = False\n",
      "/home/ricdeez/.virtualenvs/ml/lib/python3.7/site-packages/xgboost/sklearn.py:546: RuntimeWarning: invalid value encountered in true_divide\n",
      "  return all_features / all_features.sum()\n",
      "/home/ricdeez/.virtualenvs/ml/lib/python3.7/site-packages/sklearn/feature_selection/from_model.py:161: RuntimeWarning: invalid value encountered in less\n",
      "  mask[scores < threshold] = False\n"
     ]
    },
    {
     "name": "stdout",
     "output_type": "stream",
     "text": [
      "Thresh=nan, n=74, Accuracy: 100.00%\n"
     ]
    },
    {
     "name": "stderr",
     "output_type": "stream",
     "text": [
      "/home/ricdeez/.virtualenvs/ml/lib/python3.7/site-packages/xgboost/sklearn.py:546: RuntimeWarning: invalid value encountered in true_divide\n",
      "  return all_features / all_features.sum()\n",
      "/home/ricdeez/.virtualenvs/ml/lib/python3.7/site-packages/sklearn/feature_selection/from_model.py:161: RuntimeWarning: invalid value encountered in less\n",
      "  mask[scores < threshold] = False\n",
      "/home/ricdeez/.virtualenvs/ml/lib/python3.7/site-packages/xgboost/sklearn.py:546: RuntimeWarning: invalid value encountered in true_divide\n",
      "  return all_features / all_features.sum()\n",
      "/home/ricdeez/.virtualenvs/ml/lib/python3.7/site-packages/sklearn/feature_selection/from_model.py:161: RuntimeWarning: invalid value encountered in less\n",
      "  mask[scores < threshold] = False\n"
     ]
    },
    {
     "name": "stdout",
     "output_type": "stream",
     "text": [
      "Thresh=nan, n=74, Accuracy: 100.00%\n"
     ]
    },
    {
     "name": "stderr",
     "output_type": "stream",
     "text": [
      "/home/ricdeez/.virtualenvs/ml/lib/python3.7/site-packages/xgboost/sklearn.py:546: RuntimeWarning: invalid value encountered in true_divide\n",
      "  return all_features / all_features.sum()\n",
      "/home/ricdeez/.virtualenvs/ml/lib/python3.7/site-packages/sklearn/feature_selection/from_model.py:161: RuntimeWarning: invalid value encountered in less\n",
      "  mask[scores < threshold] = False\n",
      "/home/ricdeez/.virtualenvs/ml/lib/python3.7/site-packages/xgboost/sklearn.py:546: RuntimeWarning: invalid value encountered in true_divide\n",
      "  return all_features / all_features.sum()\n",
      "/home/ricdeez/.virtualenvs/ml/lib/python3.7/site-packages/sklearn/feature_selection/from_model.py:161: RuntimeWarning: invalid value encountered in less\n",
      "  mask[scores < threshold] = False\n"
     ]
    },
    {
     "name": "stdout",
     "output_type": "stream",
     "text": [
      "Thresh=nan, n=74, Accuracy: 100.00%\n"
     ]
    },
    {
     "name": "stderr",
     "output_type": "stream",
     "text": [
      "/home/ricdeez/.virtualenvs/ml/lib/python3.7/site-packages/xgboost/sklearn.py:546: RuntimeWarning: invalid value encountered in true_divide\n",
      "  return all_features / all_features.sum()\n",
      "/home/ricdeez/.virtualenvs/ml/lib/python3.7/site-packages/sklearn/feature_selection/from_model.py:161: RuntimeWarning: invalid value encountered in less\n",
      "  mask[scores < threshold] = False\n",
      "/home/ricdeez/.virtualenvs/ml/lib/python3.7/site-packages/xgboost/sklearn.py:546: RuntimeWarning: invalid value encountered in true_divide\n",
      "  return all_features / all_features.sum()\n",
      "/home/ricdeez/.virtualenvs/ml/lib/python3.7/site-packages/sklearn/feature_selection/from_model.py:161: RuntimeWarning: invalid value encountered in less\n",
      "  mask[scores < threshold] = False\n"
     ]
    },
    {
     "name": "stdout",
     "output_type": "stream",
     "text": [
      "Thresh=nan, n=74, Accuracy: 100.00%\n"
     ]
    },
    {
     "name": "stderr",
     "output_type": "stream",
     "text": [
      "/home/ricdeez/.virtualenvs/ml/lib/python3.7/site-packages/xgboost/sklearn.py:546: RuntimeWarning: invalid value encountered in true_divide\n",
      "  return all_features / all_features.sum()\n",
      "/home/ricdeez/.virtualenvs/ml/lib/python3.7/site-packages/sklearn/feature_selection/from_model.py:161: RuntimeWarning: invalid value encountered in less\n",
      "  mask[scores < threshold] = False\n",
      "/home/ricdeez/.virtualenvs/ml/lib/python3.7/site-packages/xgboost/sklearn.py:546: RuntimeWarning: invalid value encountered in true_divide\n",
      "  return all_features / all_features.sum()\n",
      "/home/ricdeez/.virtualenvs/ml/lib/python3.7/site-packages/sklearn/feature_selection/from_model.py:161: RuntimeWarning: invalid value encountered in less\n",
      "  mask[scores < threshold] = False\n"
     ]
    },
    {
     "name": "stdout",
     "output_type": "stream",
     "text": [
      "Thresh=nan, n=74, Accuracy: 100.00%\n"
     ]
    },
    {
     "name": "stderr",
     "output_type": "stream",
     "text": [
      "/home/ricdeez/.virtualenvs/ml/lib/python3.7/site-packages/xgboost/sklearn.py:546: RuntimeWarning: invalid value encountered in true_divide\n",
      "  return all_features / all_features.sum()\n",
      "/home/ricdeez/.virtualenvs/ml/lib/python3.7/site-packages/sklearn/feature_selection/from_model.py:161: RuntimeWarning: invalid value encountered in less\n",
      "  mask[scores < threshold] = False\n",
      "/home/ricdeez/.virtualenvs/ml/lib/python3.7/site-packages/xgboost/sklearn.py:546: RuntimeWarning: invalid value encountered in true_divide\n",
      "  return all_features / all_features.sum()\n",
      "/home/ricdeez/.virtualenvs/ml/lib/python3.7/site-packages/sklearn/feature_selection/from_model.py:161: RuntimeWarning: invalid value encountered in less\n",
      "  mask[scores < threshold] = False\n"
     ]
    },
    {
     "name": "stdout",
     "output_type": "stream",
     "text": [
      "Thresh=nan, n=74, Accuracy: 100.00%\n"
     ]
    },
    {
     "name": "stderr",
     "output_type": "stream",
     "text": [
      "/home/ricdeez/.virtualenvs/ml/lib/python3.7/site-packages/xgboost/sklearn.py:546: RuntimeWarning: invalid value encountered in true_divide\n",
      "  return all_features / all_features.sum()\n",
      "/home/ricdeez/.virtualenvs/ml/lib/python3.7/site-packages/sklearn/feature_selection/from_model.py:161: RuntimeWarning: invalid value encountered in less\n",
      "  mask[scores < threshold] = False\n",
      "/home/ricdeez/.virtualenvs/ml/lib/python3.7/site-packages/xgboost/sklearn.py:546: RuntimeWarning: invalid value encountered in true_divide\n",
      "  return all_features / all_features.sum()\n",
      "/home/ricdeez/.virtualenvs/ml/lib/python3.7/site-packages/sklearn/feature_selection/from_model.py:161: RuntimeWarning: invalid value encountered in less\n",
      "  mask[scores < threshold] = False\n"
     ]
    },
    {
     "name": "stdout",
     "output_type": "stream",
     "text": [
      "Thresh=nan, n=74, Accuracy: 100.00%\n"
     ]
    },
    {
     "name": "stderr",
     "output_type": "stream",
     "text": [
      "/home/ricdeez/.virtualenvs/ml/lib/python3.7/site-packages/xgboost/sklearn.py:546: RuntimeWarning: invalid value encountered in true_divide\n",
      "  return all_features / all_features.sum()\n",
      "/home/ricdeez/.virtualenvs/ml/lib/python3.7/site-packages/sklearn/feature_selection/from_model.py:161: RuntimeWarning: invalid value encountered in less\n",
      "  mask[scores < threshold] = False\n",
      "/home/ricdeez/.virtualenvs/ml/lib/python3.7/site-packages/xgboost/sklearn.py:546: RuntimeWarning: invalid value encountered in true_divide\n",
      "  return all_features / all_features.sum()\n",
      "/home/ricdeez/.virtualenvs/ml/lib/python3.7/site-packages/sklearn/feature_selection/from_model.py:161: RuntimeWarning: invalid value encountered in less\n",
      "  mask[scores < threshold] = False\n"
     ]
    },
    {
     "name": "stdout",
     "output_type": "stream",
     "text": [
      "Thresh=nan, n=74, Accuracy: 100.00%\n"
     ]
    },
    {
     "name": "stderr",
     "output_type": "stream",
     "text": [
      "/home/ricdeez/.virtualenvs/ml/lib/python3.7/site-packages/xgboost/sklearn.py:546: RuntimeWarning: invalid value encountered in true_divide\n",
      "  return all_features / all_features.sum()\n",
      "/home/ricdeez/.virtualenvs/ml/lib/python3.7/site-packages/sklearn/feature_selection/from_model.py:161: RuntimeWarning: invalid value encountered in less\n",
      "  mask[scores < threshold] = False\n",
      "/home/ricdeez/.virtualenvs/ml/lib/python3.7/site-packages/xgboost/sklearn.py:546: RuntimeWarning: invalid value encountered in true_divide\n",
      "  return all_features / all_features.sum()\n",
      "/home/ricdeez/.virtualenvs/ml/lib/python3.7/site-packages/sklearn/feature_selection/from_model.py:161: RuntimeWarning: invalid value encountered in less\n",
      "  mask[scores < threshold] = False\n"
     ]
    },
    {
     "name": "stdout",
     "output_type": "stream",
     "text": [
      "Thresh=nan, n=74, Accuracy: 100.00%\n"
     ]
    },
    {
     "name": "stderr",
     "output_type": "stream",
     "text": [
      "/home/ricdeez/.virtualenvs/ml/lib/python3.7/site-packages/xgboost/sklearn.py:546: RuntimeWarning: invalid value encountered in true_divide\n",
      "  return all_features / all_features.sum()\n",
      "/home/ricdeez/.virtualenvs/ml/lib/python3.7/site-packages/sklearn/feature_selection/from_model.py:161: RuntimeWarning: invalid value encountered in less\n",
      "  mask[scores < threshold] = False\n",
      "/home/ricdeez/.virtualenvs/ml/lib/python3.7/site-packages/xgboost/sklearn.py:546: RuntimeWarning: invalid value encountered in true_divide\n",
      "  return all_features / all_features.sum()\n",
      "/home/ricdeez/.virtualenvs/ml/lib/python3.7/site-packages/sklearn/feature_selection/from_model.py:161: RuntimeWarning: invalid value encountered in less\n",
      "  mask[scores < threshold] = False\n"
     ]
    },
    {
     "name": "stdout",
     "output_type": "stream",
     "text": [
      "Thresh=nan, n=74, Accuracy: 100.00%\n"
     ]
    },
    {
     "name": "stderr",
     "output_type": "stream",
     "text": [
      "/home/ricdeez/.virtualenvs/ml/lib/python3.7/site-packages/xgboost/sklearn.py:546: RuntimeWarning: invalid value encountered in true_divide\n",
      "  return all_features / all_features.sum()\n",
      "/home/ricdeez/.virtualenvs/ml/lib/python3.7/site-packages/sklearn/feature_selection/from_model.py:161: RuntimeWarning: invalid value encountered in less\n",
      "  mask[scores < threshold] = False\n",
      "/home/ricdeez/.virtualenvs/ml/lib/python3.7/site-packages/xgboost/sklearn.py:546: RuntimeWarning: invalid value encountered in true_divide\n",
      "  return all_features / all_features.sum()\n",
      "/home/ricdeez/.virtualenvs/ml/lib/python3.7/site-packages/sklearn/feature_selection/from_model.py:161: RuntimeWarning: invalid value encountered in less\n",
      "  mask[scores < threshold] = False\n"
     ]
    },
    {
     "name": "stdout",
     "output_type": "stream",
     "text": [
      "Thresh=nan, n=74, Accuracy: 100.00%\n"
     ]
    },
    {
     "name": "stderr",
     "output_type": "stream",
     "text": [
      "/home/ricdeez/.virtualenvs/ml/lib/python3.7/site-packages/xgboost/sklearn.py:546: RuntimeWarning: invalid value encountered in true_divide\n",
      "  return all_features / all_features.sum()\n",
      "/home/ricdeez/.virtualenvs/ml/lib/python3.7/site-packages/sklearn/feature_selection/from_model.py:161: RuntimeWarning: invalid value encountered in less\n",
      "  mask[scores < threshold] = False\n",
      "/home/ricdeez/.virtualenvs/ml/lib/python3.7/site-packages/xgboost/sklearn.py:546: RuntimeWarning: invalid value encountered in true_divide\n",
      "  return all_features / all_features.sum()\n",
      "/home/ricdeez/.virtualenvs/ml/lib/python3.7/site-packages/sklearn/feature_selection/from_model.py:161: RuntimeWarning: invalid value encountered in less\n",
      "  mask[scores < threshold] = False\n"
     ]
    },
    {
     "name": "stdout",
     "output_type": "stream",
     "text": [
      "Thresh=nan, n=74, Accuracy: 100.00%\n",
      "Thresh=nan, n=74, Accuracy: 100.00%\n"
     ]
    },
    {
     "name": "stderr",
     "output_type": "stream",
     "text": [
      "/home/ricdeez/.virtualenvs/ml/lib/python3.7/site-packages/xgboost/sklearn.py:546: RuntimeWarning: invalid value encountered in true_divide\n",
      "  return all_features / all_features.sum()\n",
      "/home/ricdeez/.virtualenvs/ml/lib/python3.7/site-packages/sklearn/feature_selection/from_model.py:161: RuntimeWarning: invalid value encountered in less\n",
      "  mask[scores < threshold] = False\n"
     ]
    }
   ],
   "source": [
    "thresholds = sort(model.feature_importances_)\n",
    "for thresh in thresholds:\n",
    "    # select features using threshold\n",
    "    selection = SelectFromModel(model, threshold=thresh, prefit=True)\n",
    "    select_X_train = selection.transform(X_train)\n",
    "    # train model\n",
    "    selection_model = XGBClassifier()\n",
    "    selection_model.fit(select_X_train, Y_train)\n",
    "    # eval model\n",
    "    select_X_test = selection.transform(X_test)\n",
    "    predictions = selection_model.predict(select_X_test)\n",
    "    accuracy = accuracy_score(Y_test, predictions)\n",
    "    print(\"Thresh=%.3f, n=%d, Accuracy: %.2f%%\" % (thresh, select_X_train.shape[1], accuracy*100.0))"
   ]
  },
  {
   "cell_type": "code",
   "execution_count": 136,
   "metadata": {},
   "outputs": [
    {
     "data": {
      "text/plain": [
       "array([0.        , 0.        , 0.        , 0.        , 0.        ,\n",
       "       0.        , 0.        , 0.        , 0.        , 0.        ,\n",
       "       0.        , 0.        , 0.        , 0.        , 0.        ,\n",
       "       0.        , 0.        , 0.        , 0.        , 0.        ,\n",
       "       0.        , 0.        , 0.        , 0.        , 0.        ,\n",
       "       0.        , 0.        , 0.        , 0.        , 0.        ,\n",
       "       0.        , 0.        , 0.        , 0.        , 0.        ,\n",
       "       0.        , 0.        , 0.        , 0.        , 0.        ,\n",
       "       0.        , 0.        , 0.        , 0.        , 0.        ,\n",
       "       0.00021713, 0.001196  , 0.00189129, 0.00293313, 0.00582664,\n",
       "       0.00657101, 0.007887  , 0.0099196 , 0.01011719, 0.01077437,\n",
       "       0.01616816, 0.01681905, 0.01733759, 0.02165858, 0.02343172,\n",
       "       0.02492435, 0.03168509, 0.0366894 , 0.04097137, 0.0433169 ,\n",
       "       0.04845143, 0.05557815, 0.06071996, 0.0710758 , 0.08837488,\n",
       "       0.09807105, 0.11651653, 0.1308766 ], dtype=float32)"
      ]
     },
     "execution_count": 136,
     "metadata": {},
     "output_type": "execute_result"
    }
   ],
   "source": [
    "thresholds"
   ]
  },
  {
   "cell_type": "code",
   "execution_count": null,
   "metadata": {},
   "outputs": [],
   "source": []
  }
 ],
 "metadata": {
  "kernelspec": {
   "display_name": "Python 3",
   "language": "python",
   "name": "python3"
  },
  "language_info": {
   "codemirror_mode": {
    "name": "ipython",
    "version": 3
   },
   "file_extension": ".py",
   "mimetype": "text/x-python",
   "name": "python",
   "nbconvert_exporter": "python",
   "pygments_lexer": "ipython3",
   "version": "3.7.3"
  }
 },
 "nbformat": 4,
 "nbformat_minor": 2
}
