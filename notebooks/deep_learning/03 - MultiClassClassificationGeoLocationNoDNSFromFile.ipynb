{
 "cells": [
  {
   "cell_type": "markdown",
   "metadata": {},
   "source": [
    "# 03 - Multi-class Classification - Fitt Dataset Load from File\n",
    "\n",
    "This notebook is intended to show the steps required to load a previously saved model and train it.\n",
    "We use NTLK (the natural language toolkit) to process just the country_name geolocation records.  Other characteristics of this notebook include:\n",
    "\n",
    "  * Fitt dataset used as it has the most number of country matches by IP geolocation lookup\n",
    "  * Geolocation uses CSV from ip2location.com imported into a sqlite database"
   ]
  },
  {
   "cell_type": "markdown",
   "metadata": {},
   "source": [
    "## Restore previoulsy saved df_sample DataFrame\n",
    "\n",
    "In order to allow us to commence our training without having to repeat the previous data preraation steps, we will now load the df_sample dataframe using the pandas built-in from_json method."
   ]
  },
  {
   "cell_type": "code",
   "execution_count": 1,
   "metadata": {},
   "outputs": [
    {
     "name": "stdout",
     "output_type": "stream",
     "text": [
      "[+] Loaded pandas dataframe from disk in 2.06 secs\n"
     ]
    }
   ],
   "source": [
    "from pathlib import Path\n",
    "import pandas as pd\n",
    "import os\n",
    "from time import time\n",
    "start = time()\n",
    "\n",
    "cwd = Path.cwd()\n",
    "file_path = os.path.join(cwd, 'saved_datasets', 'fitt_dataset_nodns.json' )\n",
    "df_sample = pd.read_json(file_path)\n",
    "end = time()\n",
    "print(f\"[+] Loaded pandas dataframe from disk in {(end-start):.2f} secs\")"
   ]
  },
  {
   "cell_type": "markdown",
   "metadata": {},
   "source": [
    "# the fun starts here...\n",
    "\n",
    "Firstly, we will try to see if we can converge our model, we'll split the dataset as follows:\n",
    "\n",
    "1. Training set (80%)\n",
    "2. Test set (20%)\n",
    "3. We have not set up a validation set as we will continue to validate the model against new captures\n"
   ]
  },
  {
   "cell_type": "code",
   "execution_count": 2,
   "metadata": {},
   "outputs": [
    {
     "name": "stderr",
     "output_type": "stream",
     "text": [
      "Using TensorFlow backend.\n"
     ]
    }
   ],
   "source": [
    "from keras.utils import np_utils\n",
    "\n",
    "from sklearn.preprocessing import LabelEncoder\n",
    "from sklearn.model_selection import train_test_split"
   ]
  },
  {
   "cell_type": "code",
   "execution_count": 3,
   "metadata": {},
   "outputs": [
    {
     "data": {
      "text/plain": [
       "(94668, 32)"
      ]
     },
     "execution_count": 3,
     "metadata": {},
     "output_type": "execute_result"
    }
   ],
   "source": [
    "features = df_sample.drop('device_type', axis=1).values\n",
    "features.shape"
   ]
  },
  {
   "cell_type": "code",
   "execution_count": 4,
   "metadata": {},
   "outputs": [],
   "source": [
    "labels = df_sample['device_type'].values\n",
    "\n",
    "encoder = LabelEncoder()\n",
    "encoder.fit(labels)\n",
    "encoded_labels = encoder.transform(labels)"
   ]
  },
  {
   "cell_type": "code",
   "execution_count": 5,
   "metadata": {},
   "outputs": [
    {
     "data": {
      "text/plain": [
       "array([5, 3, 3, ..., 3, 3, 3])"
      ]
     },
     "execution_count": 5,
     "metadata": {},
     "output_type": "execute_result"
    }
   ],
   "source": [
    "encoded_labels"
   ]
  },
  {
   "cell_type": "code",
   "execution_count": 6,
   "metadata": {},
   "outputs": [
    {
     "data": {
      "text/plain": [
       "(94668, 11)"
      ]
     },
     "execution_count": 6,
     "metadata": {},
     "output_type": "execute_result"
    }
   ],
   "source": [
    "dummy_labels = np_utils.to_categorical(encoded_labels)\n",
    "dummy_labels.shape"
   ]
  },
  {
   "cell_type": "code",
   "execution_count": 7,
   "metadata": {},
   "outputs": [],
   "source": [
    "X_train, X_test, Y_train, Y_test = train_test_split(features, dummy_labels, test_size=0.2, random_state=42)"
   ]
  },
  {
   "cell_type": "code",
   "execution_count": 8,
   "metadata": {},
   "outputs": [
    {
     "name": "stdout",
     "output_type": "stream",
     "text": [
      "94668::75734::18934\n"
     ]
    }
   ],
   "source": [
    "print(len(dummy_labels), len(Y_train), len(Y_test), sep='::')"
   ]
  },
  {
   "cell_type": "markdown",
   "metadata": {},
   "source": [
    "# Classification Problems\n",
    "\n",
    "*A quick recap of the various hyper-parameters to be used in the model for each type of classification problem:*\n",
    "\n",
    "**Binary Classification Problem**\n",
    "\n",
    "A problem where you classify an example as belonging to one of two classes.\n",
    "\n",
    "The problem is framed as predicting the likelihood of an example belonging to class one, e.g. the class that you assign the integer value 1, whereas the other class is assigned the value 0.\n",
    "\n",
    " - Output Layer Configuration: `One node with a sigmoid activation unit`.\n",
    " - Loss Function: `Cross-Entropy`, also referred to as Logarithmic loss.\n",
    "\n",
    "**Multi-Class Classification Problem**\n",
    "\n",
    "A problem where you classify an example as belonging to one of more than two classes.\n",
    "\n",
    "The problem is framed as predicting the likelihood of an example belonging to each class.\n",
    "\n",
    " - Output Layer Configuration: `One node for each class using the softmax activation function`.\n",
    " - Loss Function: `Cross-Entropy`, also referred to as Logarithmic loss."
   ]
  },
  {
   "cell_type": "code",
   "execution_count": 9,
   "metadata": {},
   "outputs": [],
   "source": [
    "from keras.models import Sequential\n",
    "from keras.layers import Dense, Dropout\n",
    "from keras.callbacks import EarlyStopping\n",
    "\n",
    "class ModelFactory():\n",
    " \n",
    "    def __init__(self, *args, **kwargs):\n",
    "        self.params = args\n",
    "        print(f'[+] Initialised with params: {self.params}')\n",
    "        if 'model_name' in kwargs:\n",
    "            self.model_name = kwargs['model_name']\n",
    "\n",
    "    def get_model(self):\n",
    "\n",
    "        model = Sequential()\n",
    "        model.add(Dense(self.params[0], input_dim=features.shape[1], activation='relu'))\n",
    "        if len(self.params) > 1:\n",
    "            for it in self.params[1:]:\n",
    "                eval(f\"model.add(Dense({it}, activation='relu'))\")\n",
    "                eval(f\"model.add(Dropout(0.2))\")\n",
    "        model.add(Dense(dummy_labels.shape[1], activation='softmax'))\n",
    "        model.compile(loss= 'categorical_crossentropy' , optimizer= 'adam' , metrics=['accuracy'])\n",
    "        monitor = EarlyStopping(monitor='val_loss', min_delta=1e-3, patience=5, \n",
    "                                verbose=1, mode='auto', restore_best_weights=True)\n",
    "        \n",
    "        return model"
   ]
  },
  {
   "cell_type": "code",
   "execution_count": 10,
   "metadata": {
    "scrolled": false
   },
   "outputs": [],
   "source": [
    "from pathlib import Path\n",
    "cwd = Path.cwd()\n",
    "NEEDS_TRAINING = False\n",
    "\n",
    "if NEEDS_TRAINING:\n",
    "\n",
    "    model_a = ( ModelFactory(64,128,64).get_model(), 'ModelA' )\n",
    "    model_b = ( ModelFactory(32,64,32).get_model(),  'ModelB' )\n",
    "\n",
    "    histories = []\n",
    "\n",
    "    for my_mod in [model_a, model_b]: \n",
    "        mod, mod_name = my_mod\n",
    "        history = mod.fit(X_train, Y_train, epochs=67, batch_size=10, shuffle=True, verbose=2)\n",
    "        # Serialise model to json\n",
    "        model_json = mod.to_json()\n",
    "        filepath = os.path.join(\n",
    "                                cwd,\n",
    "                                'saved_models',\n",
    "                                f'{mod_name}_multi_nodns.json'\n",
    "                                )\n",
    "        with open(filepath, \"w\") as json_file:\n",
    "            json_file.write(model_json)\n",
    "\n",
    "        # Serialize weights to HDF5\n",
    "        filepath = os.path.join(\n",
    "                            cwd,\n",
    "                            'saved_models',\n",
    "                            f'{mod_name}_multi_nodns.h5'\n",
    "                            )\n",
    "        mod.save_weights(filepath)\n",
    "        loss, accuracy = mod.evaluate(X_test, Y_test, verbose=2)\n",
    "        print(f'{my_mod[1]}: Loss = {loss}, Accuracy={accuracy}')\n",
    "        histories.append([history, loss, accuracy])\n",
    "else:\n",
    "    pass"
   ]
  },
  {
   "cell_type": "code",
   "execution_count": 11,
   "metadata": {},
   "outputs": [
    {
     "ename": "NameError",
     "evalue": "name 'histories' is not defined",
     "output_type": "error",
     "traceback": [
      "\u001b[0;31m---------------------------------------------------------------------------\u001b[0m",
      "\u001b[0;31mNameError\u001b[0m                                 Traceback (most recent call last)",
      "\u001b[0;32m<ipython-input-11-79061bc2896f>\u001b[0m in \u001b[0;36m<module>\u001b[0;34m\u001b[0m\n\u001b[1;32m      4\u001b[0m \u001b[0mplt\u001b[0m\u001b[0;34m.\u001b[0m\u001b[0mrcParams\u001b[0m\u001b[0;34m[\u001b[0m\u001b[0;34m\"figure.figsize\"\u001b[0m\u001b[0;34m]\u001b[0m \u001b[0;34m=\u001b[0m \u001b[0;34m(\u001b[0m\u001b[0;36m20\u001b[0m\u001b[0;34m,\u001b[0m\u001b[0;36m4\u001b[0m\u001b[0;34m)\u001b[0m\u001b[0;34m\u001b[0m\u001b[0;34m\u001b[0m\u001b[0m\n\u001b[1;32m      5\u001b[0m \u001b[0mLEGEND\u001b[0m \u001b[0;34m=\u001b[0m \u001b[0;32mFalse\u001b[0m\u001b[0;34m\u001b[0m\u001b[0;34m\u001b[0m\u001b[0m\n\u001b[0;32m----> 6\u001b[0;31m \u001b[0;32mfor\u001b[0m \u001b[0midx\u001b[0m\u001b[0;34m,\u001b[0m \u001b[0mhist_data\u001b[0m \u001b[0;32min\u001b[0m \u001b[0menumerate\u001b[0m\u001b[0;34m(\u001b[0m\u001b[0mhistories\u001b[0m\u001b[0;34m,\u001b[0m \u001b[0;36m1\u001b[0m\u001b[0;34m)\u001b[0m\u001b[0;34m:\u001b[0m\u001b[0;34m\u001b[0m\u001b[0;34m\u001b[0m\u001b[0m\n\u001b[0m\u001b[1;32m      7\u001b[0m     \u001b[0mhistory\u001b[0m\u001b[0;34m,\u001b[0m \u001b[0mloss\u001b[0m\u001b[0;34m,\u001b[0m \u001b[0maccuracy\u001b[0m \u001b[0;34m=\u001b[0m \u001b[0mhist_data\u001b[0m\u001b[0;34m\u001b[0m\u001b[0;34m\u001b[0m\u001b[0m\n\u001b[1;32m      8\u001b[0m     \u001b[0;31m# Plot training & validation accuracy values\u001b[0m\u001b[0;34m\u001b[0m\u001b[0;34m\u001b[0m\u001b[0;34m\u001b[0m\u001b[0m\n",
      "\u001b[0;31mNameError\u001b[0m: name 'histories' is not defined"
     ]
    }
   ],
   "source": [
    "import matplotlib.pyplot as plt\n",
    "import seaborn as sns\n",
    "sns.set(style=\"whitegrid\")\n",
    "plt.rcParams[\"figure.figsize\"] = (20,4)\n",
    "LEGEND = False\n",
    "for idx, hist_data in enumerate(histories, 1):\n",
    "    history, loss, accuracy = hist_data\n",
    "    # Plot training & validation accuracy values\n",
    "    fig = plt.figure()\n",
    "    ax1 = fig.add_subplot(1,2,1)\n",
    "    ax1.plot(history.history['accuracy'], color='black')\n",
    "    plt.title(f'Model {idx} Accuracy: {(accuracy*100.0):.2f}', fontsize=16, fontweight='bold')\n",
    "    plt.ylabel('Accuracy', fontsize=14, fontweight='bold')\n",
    "    plt.xlabel('Epoch', fontsize=14, fontweight='bold')\n",
    "    if LEGEND: ax1.legend('Train', loc='upper left')\n",
    "\n",
    "    # # Plot training & validation loss values\n",
    "    ax2 = fig.add_subplot(1,2,2)\n",
    "    ax2.plot(history.history['loss'], color='black')\n",
    "    plt.title(f'Model {idx} Loss', fontsize=16, fontweight='bold')\n",
    "    plt.ylabel('Loss', fontsize=14, fontweight='bold')\n",
    "    plt.xlabel('Epoch', fontsize=14, fontweight='bold')\n",
    "    if LEGEND: ax2.legend('Train', loc='upper left')\n",
    "    plt.savefig(f'/home/ricdeez/uni/projects/iotnetlearn/multiclass{idx}_nodns.png', dpi=150)\n",
    "    plt.show()"
   ]
  },
  {
   "cell_type": "markdown",
   "metadata": {},
   "source": [
    "## Loding model from file (if already trained)"
   ]
  },
  {
   "cell_type": "code",
   "execution_count": 12,
   "metadata": {},
   "outputs": [],
   "source": [
    "from keras.models import model_from_json\n",
    "import os\n",
    "import json"
   ]
  },
  {
   "cell_type": "code",
   "execution_count": 13,
   "metadata": {},
   "outputs": [
    {
     "name": "stdout",
     "output_type": "stream",
     "text": [
      "[+] Loaded model from disk\n"
     ]
    }
   ],
   "source": [
    "# load json and create model\n",
    "import os\n",
    "from pathlib import Path\n",
    "cwd = Path.cwd()\n",
    "\n",
    "json_file = open(\n",
    "                os.path.join(\n",
    "                    cwd,\n",
    "                    'saved_models',\n",
    "                    'ModelA_multi_nodns.json'\n",
    "                ), 'r')\n",
    "loaded_model_json = json_file.read()\n",
    "json_file.close()\n",
    "loaded_model = model_from_json(loaded_model_json)\n",
    "# load weights into new model\n",
    "loaded_model.load_weights(os.path.join(cwd, 'saved_models', 'ModelA_multi_nodns.h5'))\n",
    "print(\"[+] Loaded model from disk\")\n"
   ]
  },
  {
   "cell_type": "code",
   "execution_count": 14,
   "metadata": {},
   "outputs": [],
   "source": [
    "# These functions were adapted from:\n",
    "# Jeff Heaton, McKelvey School of Engineering, Washington University in St. Louis\n",
    "\n",
    "from sklearn.metrics import roc_curve, auc\n",
    "\n",
    "\n",
    "def plot_confusion_matrix(cm, names, title='Confusion matrix', cmap=plt.cm.Blues):\n",
    "    plt.imshow(cm, interpolation='nearest', cmap=cmap)\n",
    "    plt.title(title)\n",
    "    plt.colorbar()\n",
    "    tick_marks = np.arange(len(names))\n",
    "    plt.xticks(tick_marks, names, rotation=90)\n",
    "    plt.yticks(tick_marks, names)\n",
    "    plt.tight_layout()\n",
    "    plt.ylabel('True label')\n",
    "    plt.xlabel('Predicted label')\n",
    "\n",
    "def plot_roc(pred,y):\n",
    "    plt.rcParams[\"figure.figsize\"] = (20,0)\n",
    "    plt.rcParams[\"figure.dpi\"] = 300\n",
    "    fpr, tpr, _ = roc_curve(y, pred)\n",
    "    roc_auc = auc(fpr, tpr)\n",
    "    plt.figure()\n",
    "    plt.plot(fpr, tpr, label='ROC curve (area = %0.2f)' % roc_auc)\n",
    "    plt.plot([0, 1], [0, 1], 'k--')\n",
    "    plt.xlim([0.0, 1.0])\n",
    "    plt.ylim([0.0, 1.05])\n",
    "    plt.xlabel('False Positive Rate')\n",
    "    plt.ylabel('True Positive Rate')\n",
    "    plt.title('Receiver Operating Characteristic (ROC)')\n",
    "    plt.legend(loc=\"lower right\")\n",
    "    plt.savefig(f'/home/ricdeez/uni/projects/iotnetlearn/roc.png', dpi=150)\n",
    "    plt.show()\n"
   ]
  },
  {
   "cell_type": "markdown",
   "metadata": {},
   "source": [
    "## Calculation of Classification Accuracy\n",
    "\n",
    "Accuracy refers to the number of rows in our dataset where the model predicted the target class.  Accuracy is only used for classification, not regression.\n",
    "\n",
    "\\begin{align}\n",
    "accuracy = \\frac{c}{N}\n",
    "\\end{align}\n",
    "\n",
    "Where:\n",
    " * c is the number correct, and\n",
    " * N is the size of the evaluated set\n",
    " \n",
    "Keras returns the probability percentage for each class.  We'll change these into actual model predictions with argmax."
   ]
  },
  {
   "cell_type": "code",
   "execution_count": 15,
   "metadata": {},
   "outputs": [
    {
     "data": {
      "text/plain": [
       "array([9, 0, 9, ..., 4, 3, 9])"
      ]
     },
     "execution_count": 15,
     "metadata": {},
     "output_type": "execute_result"
    }
   ],
   "source": [
    "import numpy as np\n",
    "pred = loaded_model.predict(X_test)\n",
    "pred = np.argmax(pred, axis=1)\n",
    "y_test = np.argmax(Y_test, axis=1)\n",
    "y_test"
   ]
  },
  {
   "cell_type": "code",
   "execution_count": 16,
   "metadata": {},
   "outputs": [
    {
     "name": "stdout",
     "output_type": "stream",
     "text": [
      "Accuracy score: 0.8974331889722192\n"
     ]
    }
   ],
   "source": [
    "# Adapted from:\n",
    "# Jeff Heaton, McKelvey School of Engineering, Washington University in St. Louis\n",
    "from sklearn import metrics\n",
    "\n",
    "y_compare = np.argmax(Y_test,axis=1) \n",
    "score = metrics.accuracy_score(y_compare, pred)\n",
    "print(\"Accuracy score: {}\".format(score))"
   ]
  },
  {
   "cell_type": "code",
   "execution_count": 17,
   "metadata": {},
   "outputs": [
    {
     "name": "stdout",
     "output_type": "stream",
     "text": [
      "Confusion matrix, without normalization\n",
      "[[1677    0    0    7    0    6    0    0    0  726    0]\n",
      " [   0    0    0    1    0    0    0    0    0    0    0]\n",
      " [   0    0    0    2    0    0    0    0    0    0    0]\n",
      " [  24    0    0 4262   27  331    0    1    0    1    0]\n",
      " [   1    0    0   11 2937    0    0    0    0    0    0]\n",
      " [   5    0    0  597    2  906    0    5    0    2    1]\n",
      " [   1    0    0    5    0    0    0    1    0    0    0]\n",
      " [  77    0    0   58    0   14    0   44    0    0    0]\n",
      " [   0    0    0   23    0    0    0    0    0    0    0]\n",
      " [   0    0    0   13    0    0    0    0    0 5907    0]\n",
      " [   0    0    0    0    0    0    0    0    0    0 1259]]\n",
      "Normalized confusion matrix\n",
      "[[6.94e-01 0.00e+00 0.00e+00 2.90e-03 0.00e+00 2.48e-03 0.00e+00 0.00e+00\n",
      "  0.00e+00 3.00e-01 0.00e+00]\n",
      " [0.00e+00 0.00e+00 0.00e+00 1.00e+00 0.00e+00 0.00e+00 0.00e+00 0.00e+00\n",
      "  0.00e+00 0.00e+00 0.00e+00]\n",
      " [0.00e+00 0.00e+00 0.00e+00 1.00e+00 0.00e+00 0.00e+00 0.00e+00 0.00e+00\n",
      "  0.00e+00 0.00e+00 0.00e+00]\n",
      " [5.17e-03 0.00e+00 0.00e+00 9.17e-01 5.81e-03 7.12e-02 0.00e+00 2.15e-04\n",
      "  0.00e+00 2.15e-04 0.00e+00]\n",
      " [3.39e-04 0.00e+00 0.00e+00 3.73e-03 9.96e-01 0.00e+00 0.00e+00 0.00e+00\n",
      "  0.00e+00 0.00e+00 0.00e+00]\n",
      " [3.29e-03 0.00e+00 0.00e+00 3.93e-01 1.32e-03 5.97e-01 0.00e+00 3.29e-03\n",
      "  0.00e+00 1.32e-03 6.59e-04]\n",
      " [1.43e-01 0.00e+00 0.00e+00 7.14e-01 0.00e+00 0.00e+00 0.00e+00 1.43e-01\n",
      "  0.00e+00 0.00e+00 0.00e+00]\n",
      " [3.99e-01 0.00e+00 0.00e+00 3.01e-01 0.00e+00 7.25e-02 0.00e+00 2.28e-01\n",
      "  0.00e+00 0.00e+00 0.00e+00]\n",
      " [0.00e+00 0.00e+00 0.00e+00 1.00e+00 0.00e+00 0.00e+00 0.00e+00 0.00e+00\n",
      "  0.00e+00 0.00e+00 0.00e+00]\n",
      " [0.00e+00 0.00e+00 0.00e+00 2.20e-03 0.00e+00 0.00e+00 0.00e+00 0.00e+00\n",
      "  0.00e+00 9.98e-01 0.00e+00]\n",
      " [0.00e+00 0.00e+00 0.00e+00 0.00e+00 0.00e+00 0.00e+00 0.00e+00 0.00e+00\n",
      "  0.00e+00 0.00e+00 1.00e+00]]\n"
     ]
    },
    {
     "data": {
      "image/png": "[encoded data removed]",
      "text/plain": [
       "<Figure size 432x288 with 2 Axes>"
      ]
     },
     "metadata": {
      "needs_background": "light"
     },
     "output_type": "display_data"
    },
    {
     "data": {
      "image/png": "[encoded data removed]",
      "text/plain": [
       "<Figure size 432x288 with 2 Axes>"
      ]
     },
     "metadata": {
      "needs_background": "light"
     },
     "output_type": "display_data"
    }
   ],
   "source": [
    "# Adapted from\n",
    "# Jeff Heaton, McKelvey School of Engineering, Washington University in St. Louis\n",
    "dummies = pd.get_dummies(df_sample['device_type'])\n",
    "device_types = dummies.columns\n",
    "products= device_types\n",
    "\n",
    "import numpy as np\n",
    "from sklearn import svm, datasets\n",
    "from sklearn.model_selection import train_test_split\n",
    "from sklearn.metrics import confusion_matrix\n",
    "\n",
    "# Compute confusion matrix\n",
    "cm = confusion_matrix(y_compare, pred)\n",
    "np.set_printoptions(precision=2)\n",
    "print('Confusion matrix, without normalization')\n",
    "print(cm)\n",
    "plt.figure()\n",
    "plot_confusion_matrix(cm, products)\n",
    "\n",
    "# Normalize the confusion matrix by row (i.e by the number of samples\n",
    "# in each class)\n",
    "cm_normalized = cm.astype('float') / cm.sum(axis=1)[:, np.newaxis]\n",
    "print('Normalized confusion matrix')\n",
    "print(cm_normalized)\n",
    "plt.figure()\n",
    "plot_confusion_matrix(cm_normalized, products, title='Normalized confusion matrix')\n",
    "plt.savefig(f'/home/ricdeez/uni/projects/iotnetlearn/confusion_matrix_multi.png', dpi=300)\n",
    "plt.show()\n"
   ]
  },
  {
   "cell_type": "code",
   "execution_count": null,
   "metadata": {},
   "outputs": [],
   "source": []
  }
 ],
 "metadata": {
  "kernelspec": {
   "display_name": "Python 3",
   "language": "python",
   "name": "python3"
  },
  "language_info": {
   "codemirror_mode": {
    "name": "ipython",
    "version": 3
   },
   "file_extension": ".py",
   "mimetype": "text/x-python",
   "name": "python",
   "nbconvert_exporter": "python",
   "pygments_lexer": "ipython3",
   "version": "3.7.3"
  }
 },
 "nbformat": 4,
 "nbformat_minor": 2
}
