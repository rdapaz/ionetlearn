{
 "cells": [
  {
   "cell_type": "markdown",
   "metadata": {},
   "source": [
    "## MinMax Function\n",
    "\n",
    "\n",
    "\n",
    "\\begin{align}\n",
    "\\hat{x}\\tiny{i} & = \\frac{x\\tiny{i} \\small- min(X)}{max(X) - min(X)} \\Large{\\forall} \\normalsize{x}\\tiny{i} \\small\\in X\n",
    "\\end{align}"
   ]
  },
  {
   "cell_type": "markdown",
   "metadata": {},
   "source": [
    "## Binary cross entropy\n",
    "\n",
    "The following is the formula for `binary cross entropy`.  The function measures how far from the true value (i.e., either 0 or 1), the prediction is, averaging these class-wise errors to calculate the final loss.\n",
    "\n",
    "\\begin{align}\n",
    "L(y,\\hat{y}) & = -\\frac{1}{N} \\sum_{n=0}^{N} ({y*log(\\hat{y}\\tiny{i}\\normalsize) + (1 - y)*log(1-\\hat{y}\\tiny{i}\\normalsize))}\n",
    "\\end{align}\n",
    "\n",
    "\n",
    "where $\\hat{y}$ is the predicted value\n"
   ]
  },
  {
   "cell_type": "markdown",
   "metadata": {},
   "source": [
    "## Categorical cross entropy\n",
    "\n",
    "Categorical crossentropy will compare the distribution of predictions (the activations in the output layer, one for each class) wiht the true distribution, where the probability of the true class is set to 1 and 0 for the other classes.  The true class is represented as a one hot encoded vector and the closer the model's outputs are to the vector, the lower the loss.\n",
    "\n",
    "\\begin{align}\n",
    "L(y,\\hat{y}) & = - \\sum_{j=0}^{M} \\sum_{i=0}^{N}(y\\tiny{ij} \\normalsize * log(\\hat{y}\\tiny{ij} \\normalsize ))\n",
    "\\end{align}\n",
    "where $\\hat{y}$ is the predicted value"
   ]
  },
  {
   "cell_type": "markdown",
   "metadata": {},
   "source": [
    "## Relu function\n",
    "\n",
    "The ReLU function helps wiht the problem with vanishing gradients in deep networks by not squashing both ends\n",
    "\n",
    "\\begin{align}\n",
    "ReLU(x) = max(x, 0)\n",
    "\\end{align}\n"
   ]
  },
  {
   "cell_type": "code",
   "execution_count": null,
   "metadata": {},
   "outputs": [],
   "source": []
  }
 ],
 "metadata": {
  "kernelspec": {
   "display_name": "Python 3",
   "language": "python",
   "name": "python3"
  },
  "language_info": {
   "codemirror_mode": {
    "name": "ipython",
    "version": 3
   },
   "file_extension": ".py",
   "mimetype": "text/x-python",
   "name": "python",
   "nbconvert_exporter": "python",
   "pygments_lexer": "ipython3",
   "version": "3.7.3"
  }
 },
 "nbformat": 4,
 "nbformat_minor": 2
}
