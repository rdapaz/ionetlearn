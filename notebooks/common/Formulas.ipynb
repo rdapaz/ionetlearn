{
 "cells": [
  {
   "cell_type": "markdown",
   "metadata": {},
   "source": [
    "\\begin{align}\n",
    "\\hat{x}\\tiny{i} & = \\frac{x\\tiny{i} \\small- min(X)}{max(X) - min(X)} \\Large{\\forall} \\normalsize{x}\\tiny{i} \\small\\in X\n",
    "\\end{align}"
   ]
  },
  {
   "cell_type": "markdown",
   "metadata": {},
   "source": [
    "\\begin{align}\n",
    "L(y,\\hat{y}) & = -\\frac{1/N} \\sum{y*log(\\hat{y}\\tiny{i}\\normalsize) + (1 - y)*log(1-\\hat{y}\\tiny{i}\\normalsize))}\n",
    "\\end{align}"
   ]
  },
  {
   "cell_type": "code",
   "execution_count": null,
   "metadata": {},
   "outputs": [],
   "source": []
  }
 ],
 "metadata": {
  "kernelspec": {
   "display_name": "Python 3",
   "language": "python",
   "name": "python3"
  },
  "language_info": {
   "codemirror_mode": {
    "name": "ipython",
    "version": 3
   },
   "file_extension": ".py",
   "mimetype": "text/x-python",
   "name": "python",
   "nbconvert_exporter": "python",
   "pygments_lexer": "ipython3",
   "version": "3.7.3"
  }
 },
 "nbformat": 4,
 "nbformat_minor": 2
}
